{
 "cells": [
  {
   "cell_type": "markdown",
   "metadata": {},
   "source": [
    "<a href=\"https://www.skills.network/?utm_medium=Exinfluencer&utm_source=Exinfluencer&utm_content=000026UJ&utm_term=10006555&utm_id=NA-SkillsNetwork-Channel-SkillsNetworkCoursesIBMDeveloperSkillsNetworkDL0120ENSkillsNetwork20629446-2022-01-01\"><img src=\"https://cf-courses-data.s3.us.cloud-object-storage.appdomain.cloud/IBM-DL0120ENedX/labs/Template%20for%20Instructional%20Hands-on%20Labs/images/IDSNlogo.png\" width=\"400px\" align=\"center\"></a>\n",
    "\n",
    "<h1 align=\"center\"><font size=\"5\">RESTRICTED BOLTZMANN MACHINES</font></h1>\n"
   ]
  },
  {
   "cell_type": "markdown",
   "metadata": {},
   "source": [
    "Estimated time needed: **25** minutes\n"
   ]
  },
  {
   "cell_type": "markdown",
   "metadata": {},
   "source": [
    "<h3>Introduction</h3>\n",
    "<b>Restricted Boltzmann Machine (RBM):</b>  RBMs are shallow neural nets that learn to reconstruct data by themselves in an unsupervised fashion.  \n",
    "\n",
    "<h4>Why are RBMs important?</h4>\n",
    "An RBM are a basic form of autoencoder.  It can automatically extract <b>meaningful</b> features from a given input.\n",
    "\n",
    "<h4>How does it work?</h4>\n",
    "RBM is a 2 layer neural network. Simply, RBM takes the inputs and translates those into a set of binary values that represents them in the hidden layer. Then, these numbers can be translated back to reconstruct the inputs. Through several forward and backward passes, the RBM will be trained, and a trained RBM can reveal which features are the most important ones when detecting patterns.   \n",
    "\n",
    "<h4>What are the applications of an RBM?</h4>\n",
    "RBM is useful for <a href='http://www.cs.utoronto.ca/~hinton/absps/netflixICML.pdf?utm_medium=Exinfluencer&utm_source=Exinfluencer&utm_content=000026UJ&utm_term=10006555&utm_id=NA-SkillsNetwork-Channel-SkillsNetworkCoursesIBMDeveloperSkillsNetworkDL0120ENSkillsNetwork20629446-2022-01-01'>  Collaborative Filtering</a>, dimensionality reduction, classification, regression, feature learning, topic modeling and even <b>Deep Belief Networks</b>.\n",
    "\n",
    "<h4>Is RBM a generative or Discriminative model?</h4>\n",
    "RBM is a generative model. Let me explain it by first, see what is different between discriminative and generative models: \n",
    "\n",
    "<b>Discriminative:</b> Consider a classification problem where we want to learn to distinguish between Sedan cars (y = 1) and SUV cars (y = 0), based on some features of cars. Given a training set, an algorithm like logistic regression tries to find a straight line, or <i>decision boundary</i>, that separates the suv and sedan.\n",
    "\n",
    "<b>Generative:</b> looking at cars, we can build a model of what Sedan cars look like. Then, looking at SUVs, we can build a separate model of what SUV cars look like. Finally, to classify a new car, we can match the new car against the Sedan model, and match it against the SUV model, to see whether the new car looks more like the SUV or Sedan.\n",
    "\n",
    "Generative Models specify a probability distribution over a dataset of input vectors. We can carry out both supervised and unsupervised tasks with generative models:\n",
    "\n",
    "<ul>\n",
    "    <li>In an unsupervised task, we try to form a model for $P(x)$, where $P$ is the probability given $x$ as an input vector.</li>\n",
    "    <li>In the supervised task, we first form a model for $P(x|y)$, where $P$ is the probability of $x$ given $y$(the label for $x$). For example, if $y = 0$ indicates that a car is an SUV, and $y = 1$ indicates that a car is a sedan, then $p(x|y = 0)$ models the distribution of SUV features, and $p(x|y = 1)$ models the distribution of sedan features. If we manage to find $P(x|y)$ and $P(y)$, then we can use <b>Bayes rule</b> to estimate $P(y|x)$, because:   \n",
    "        $$p(y|x) = \\frac{p(x|y)p(y)}{p(x)}$$</li>\n",
    "</ul>\n",
    "Now the question is, can we build a generative model, and then use it to create synthetic data by directly sampling from the modeled probability distributions? Lets see. \n"
   ]
  },
  {
   "cell_type": "markdown",
   "metadata": {},
   "source": [
    "<h2>Table of Contents</h2>\n",
    "<ol>\n",
    "    <li><a href=\"https://#ref1\">Initialization</a></li>\n",
    "    <li><a href=\"https://#ref2\">RBM layers</a></li>\n",
    "    <li><a href=\"https://#ref3\">What RBM can do after training?</a></li>\n",
    "    <li><a href=\"https://#ref4\">How to train the model?</a></li>\n",
    "    <li><a href=\"https://#ref5\">Learned features</a></li>\n",
    "</ol>\n",
    "<p></p>\n",
    "</div>\n",
    "<br>\n",
    "\n",
    "<hr>\n"
   ]
  },
  {
   "cell_type": "markdown",
   "metadata": {},
   "source": [
    "<a id=\"ref1\"></a>\n",
    "\n",
    "<h3>Initialization</h3>\n",
    "\n",
    "First, we have to load the utility file which contains different utility functions that are not connected\n",
    "in any way to the networks presented in the tutorials, but rather help in\n",
    "processing the outputs into a more understandable way.\n"
   ]
  },
  {
   "cell_type": "code",
   "execution_count": 1,
   "metadata": {},
   "outputs": [],
   "source": [
    "import urllib.request\n",
    "with urllib.request.urlopen(\"https://cf-courses-data.s3.us.cloud-object-storage.appdomain.cloud/IBMDeveloperSkillsNetwork-DL0120EN-SkillsNetwork/labs/Week4/data/utils.py\") as url:\n",
    "    response = url.read()\n",
    "target = open('utils.py', 'w')\n",
    "target.write(response.decode('utf-8'))\n",
    "target.close()"
   ]
  },
  {
   "cell_type": "markdown",
   "metadata": {},
   "source": [
    "<h2>Installing TensorFlow </h2>\n",
    "\n",
    "We will installing TensorFlow version 2.2.0 and its required prerequistes.  Also installing pillow\\...\n"
   ]
  },
  {
   "cell_type": "code",
   "execution_count": 2,
   "metadata": {},
   "outputs": [
    {
     "name": "stdout",
     "output_type": "stream",
     "text": [
      "Collecting grpcio==1.24.3\n",
      "  Downloading grpcio-1.24.3-cp37-cp37m-manylinux2010_x86_64.whl (2.2 MB)\n",
      "\u001b[2K     \u001b[90m━━━━━━━━━━━━━━━━━━━━━━━━━━━━━━━━━━━━━━━━\u001b[0m \u001b[32m2.2/2.2 MB\u001b[0m \u001b[31m81.3 MB/s\u001b[0m eta \u001b[36m0:00:00\u001b[0m\n",
      "\u001b[?25hRequirement already satisfied: six>=1.5.2 in /home/jupyterlab/conda/envs/python/lib/python3.7/site-packages (from grpcio==1.24.3) (1.16.0)\n",
      "Installing collected packages: grpcio\n",
      "  Attempting uninstall: grpcio\n",
      "    Found existing installation: grpcio 1.45.0\n",
      "    Uninstalling grpcio-1.45.0:\n",
      "      Successfully uninstalled grpcio-1.45.0\n",
      "Successfully installed grpcio-1.24.3\n",
      "Collecting tensorflow==2.2.0\n",
      "  Downloading tensorflow-2.2.0-cp37-cp37m-manylinux2010_x86_64.whl (516.2 MB)\n",
      "\u001b[2K     \u001b[90m━━━━━━━━━━━━━━━━━━━━━━━━━━━━━━━━━━━━━\u001b[0m \u001b[32m516.2/516.2 MB\u001b[0m \u001b[31m952.0 kB/s\u001b[0m eta \u001b[36m0:00:00\u001b[0m00:01\u001b[0m00:01\u001b[0m\n",
      "\u001b[?25hCollecting astunparse==1.6.3\n",
      "  Downloading astunparse-1.6.3-py2.py3-none-any.whl (12 kB)\n",
      "Collecting h5py<2.11.0,>=2.10.0\n",
      "  Downloading h5py-2.10.0-cp37-cp37m-manylinux1_x86_64.whl (2.9 MB)\n",
      "\u001b[2K     \u001b[90m━━━━━━━━━━━━━━━━━━━━━━━━━━━━━━━━━━━━━━━━\u001b[0m \u001b[32m2.9/2.9 MB\u001b[0m \u001b[31m100.3 MB/s\u001b[0m eta \u001b[36m0:00:00\u001b[0m\n",
      "\u001b[?25hRequirement already satisfied: absl-py>=0.7.0 in /home/jupyterlab/conda/envs/python/lib/python3.7/site-packages (from tensorflow==2.2.0) (1.0.0)\n",
      "Requirement already satisfied: protobuf>=3.8.0 in /home/jupyterlab/conda/envs/python/lib/python3.7/site-packages (from tensorflow==2.2.0) (3.20.0rc2)\n",
      "Requirement already satisfied: keras-preprocessing>=1.1.0 in /home/jupyterlab/conda/envs/python/lib/python3.7/site-packages (from tensorflow==2.2.0) (1.1.2)\n",
      "Requirement already satisfied: grpcio>=1.8.6 in /home/jupyterlab/conda/envs/python/lib/python3.7/site-packages (from tensorflow==2.2.0) (1.24.3)\n",
      "Requirement already satisfied: numpy<2.0,>=1.16.0 in /home/jupyterlab/conda/envs/python/lib/python3.7/site-packages (from tensorflow==2.2.0) (1.21.6)\n",
      "Collecting opt-einsum>=2.3.2\n",
      "  Downloading opt_einsum-3.3.0-py3-none-any.whl (65 kB)\n",
      "\u001b[2K     \u001b[90m━━━━━━━━━━━━━━━━━━━━━━━━━━━━━━━━━━━━━━━━\u001b[0m \u001b[32m65.5/65.5 KB\u001b[0m \u001b[31m14.6 MB/s\u001b[0m eta \u001b[36m0:00:00\u001b[0m\n",
      "\u001b[?25hCollecting scipy==1.4.1\n",
      "  Downloading scipy-1.4.1-cp37-cp37m-manylinux1_x86_64.whl (26.1 MB)\n",
      "\u001b[2K     \u001b[90m━━━━━━━━━━━━━━━━━━━━━━━━━━━━━━━━━━━━━━━━\u001b[0m \u001b[32m26.1/26.1 MB\u001b[0m \u001b[31m60.3 MB/s\u001b[0m eta \u001b[36m0:00:00\u001b[0m00:01\u001b[0m00:01\u001b[0m\n",
      "\u001b[?25hRequirement already satisfied: google-pasta>=0.1.8 in /home/jupyterlab/conda/envs/python/lib/python3.7/site-packages (from tensorflow==2.2.0) (0.2.0)\n",
      "Collecting gast==0.3.3\n",
      "  Downloading gast-0.3.3-py2.py3-none-any.whl (9.7 kB)\n",
      "Collecting tensorboard<2.3.0,>=2.2.0\n",
      "  Downloading tensorboard-2.2.2-py3-none-any.whl (3.0 MB)\n",
      "\u001b[2K     \u001b[90m━━━━━━━━━━━━━━━━━━━━━━━━━━━━━━━━━━━━━━━━\u001b[0m \u001b[32m3.0/3.0 MB\u001b[0m \u001b[31m97.8 MB/s\u001b[0m eta \u001b[36m0:00:00\u001b[0m\n",
      "\u001b[?25hRequirement already satisfied: wheel>=0.26 in /home/jupyterlab/conda/envs/python/lib/python3.7/site-packages (from tensorflow==2.2.0) (0.37.1)\n",
      "Collecting tensorflow-estimator<2.3.0,>=2.2.0\n",
      "  Downloading tensorflow_estimator-2.2.0-py2.py3-none-any.whl (454 kB)\n",
      "\u001b[2K     \u001b[90m━━━━━━━━━━━━━━━━━━━━━━━━━━━━━━━━━━━━━━\u001b[0m \u001b[32m454.6/454.6 KB\u001b[0m \u001b[31m58.7 MB/s\u001b[0m eta \u001b[36m0:00:00\u001b[0m\n",
      "\u001b[?25hRequirement already satisfied: wrapt>=1.11.1 in /home/jupyterlab/conda/envs/python/lib/python3.7/site-packages (from tensorflow==2.2.0) (1.14.0)\n",
      "Requirement already satisfied: six>=1.12.0 in /home/jupyterlab/conda/envs/python/lib/python3.7/site-packages (from tensorflow==2.2.0) (1.16.0)\n",
      "Requirement already satisfied: termcolor>=1.1.0 in /home/jupyterlab/conda/envs/python/lib/python3.7/site-packages (from tensorflow==2.2.0) (1.1.0)\n",
      "Collecting tensorboard-plugin-wit>=1.6.0\n",
      "  Downloading tensorboard_plugin_wit-1.8.1-py3-none-any.whl (781 kB)\n",
      "\u001b[2K     \u001b[90m━━━━━━━━━━━━━━━━━━━━━━━━━━━━━━━━━━━━━━\u001b[0m \u001b[32m781.3/781.3 KB\u001b[0m \u001b[31m73.3 MB/s\u001b[0m eta \u001b[36m0:00:00\u001b[0m\n",
      "\u001b[?25hCollecting google-auth-oauthlib<0.5,>=0.4.1\n",
      "  Downloading google_auth_oauthlib-0.4.6-py2.py3-none-any.whl (18 kB)\n",
      "Collecting google-auth<2,>=1.6.3\n",
      "  Using cached google_auth-1.35.0-py2.py3-none-any.whl (152 kB)\n",
      "Requirement already satisfied: markdown>=2.6.8 in /home/jupyterlab/conda/envs/python/lib/python3.7/site-packages (from tensorboard<2.3.0,>=2.2.0->tensorflow==2.2.0) (3.3.6)\n",
      "Requirement already satisfied: werkzeug>=0.11.15 in /home/jupyterlab/conda/envs/python/lib/python3.7/site-packages (from tensorboard<2.3.0,>=2.2.0->tensorflow==2.2.0) (2.1.1)\n",
      "Requirement already satisfied: setuptools>=41.0.0 in /home/jupyterlab/conda/envs/python/lib/python3.7/site-packages (from tensorboard<2.3.0,>=2.2.0->tensorflow==2.2.0) (62.1.0)\n",
      "Requirement already satisfied: requests<3,>=2.21.0 in /home/jupyterlab/conda/envs/python/lib/python3.7/site-packages (from tensorboard<2.3.0,>=2.2.0->tensorflow==2.2.0) (2.27.1)\n",
      "Collecting rsa<5,>=3.1.4\n",
      "  Using cached rsa-4.8-py3-none-any.whl (39 kB)\n",
      "Collecting cachetools<5.0,>=2.0.0\n",
      "  Using cached cachetools-4.2.4-py3-none-any.whl (10 kB)\n",
      "Requirement already satisfied: pyasn1-modules>=0.2.1 in /home/jupyterlab/conda/envs/python/lib/python3.7/site-packages (from google-auth<2,>=1.6.3->tensorboard<2.3.0,>=2.2.0->tensorflow==2.2.0) (0.2.8)\n",
      "Collecting requests-oauthlib>=0.7.0\n",
      "  Using cached requests_oauthlib-1.3.1-py2.py3-none-any.whl (23 kB)\n",
      "Requirement already satisfied: importlib-metadata>=4.4 in /home/jupyterlab/conda/envs/python/lib/python3.7/site-packages (from markdown>=2.6.8->tensorboard<2.3.0,>=2.2.0->tensorflow==2.2.0) (4.11.3)\n",
      "Requirement already satisfied: certifi>=2017.4.17 in /home/jupyterlab/conda/envs/python/lib/python3.7/site-packages (from requests<3,>=2.21.0->tensorboard<2.3.0,>=2.2.0->tensorflow==2.2.0) (2021.10.8)\n",
      "Requirement already satisfied: urllib3<1.27,>=1.21.1 in /home/jupyterlab/conda/envs/python/lib/python3.7/site-packages (from requests<3,>=2.21.0->tensorboard<2.3.0,>=2.2.0->tensorflow==2.2.0) (1.26.9)\n",
      "Requirement already satisfied: idna<4,>=2.5 in /home/jupyterlab/conda/envs/python/lib/python3.7/site-packages (from requests<3,>=2.21.0->tensorboard<2.3.0,>=2.2.0->tensorflow==2.2.0) (3.3)\n",
      "Requirement already satisfied: charset-normalizer~=2.0.0 in /home/jupyterlab/conda/envs/python/lib/python3.7/site-packages (from requests<3,>=2.21.0->tensorboard<2.3.0,>=2.2.0->tensorflow==2.2.0) (2.0.12)\n",
      "Requirement already satisfied: typing-extensions>=3.6.4 in /home/jupyterlab/conda/envs/python/lib/python3.7/site-packages (from importlib-metadata>=4.4->markdown>=2.6.8->tensorboard<2.3.0,>=2.2.0->tensorflow==2.2.0) (4.2.0)\n",
      "Requirement already satisfied: zipp>=0.5 in /home/jupyterlab/conda/envs/python/lib/python3.7/site-packages (from importlib-metadata>=4.4->markdown>=2.6.8->tensorboard<2.3.0,>=2.2.0->tensorflow==2.2.0) (3.8.0)\n",
      "Requirement already satisfied: pyasn1<0.5.0,>=0.4.6 in /home/jupyterlab/conda/envs/python/lib/python3.7/site-packages (from pyasn1-modules>=0.2.1->google-auth<2,>=1.6.3->tensorboard<2.3.0,>=2.2.0->tensorflow==2.2.0) (0.4.8)\n",
      "Collecting oauthlib>=3.0.0\n",
      "  Downloading oauthlib-3.2.0-py3-none-any.whl (151 kB)\n",
      "\u001b[2K     \u001b[90m━━━━━━━━━━━━━━━━━━━━━━━━━━━━━━━━━━━━━━\u001b[0m \u001b[32m151.5/151.5 KB\u001b[0m \u001b[31m27.5 MB/s\u001b[0m eta \u001b[36m0:00:00\u001b[0m\n",
      "\u001b[?25hInstalling collected packages: tensorflow-estimator, tensorboard-plugin-wit, scipy, rsa, opt-einsum, oauthlib, h5py, gast, cachetools, astunparse, requests-oauthlib, google-auth, google-auth-oauthlib, tensorboard, tensorflow\n",
      "  Attempting uninstall: tensorflow-estimator\n",
      "    Found existing installation: tensorflow-estimator 1.14.0\n",
      "    Uninstalling tensorflow-estimator-1.14.0:\n",
      "      Successfully uninstalled tensorflow-estimator-1.14.0\n",
      "  Attempting uninstall: scipy\n",
      "    Found existing installation: scipy 1.7.3\n",
      "    Uninstalling scipy-1.7.3:\n",
      "      Successfully uninstalled scipy-1.7.3\n",
      "  Attempting uninstall: h5py\n",
      "    Found existing installation: h5py 2.8.0\n",
      "    Uninstalling h5py-2.8.0:\n",
      "      Successfully uninstalled h5py-2.8.0\n",
      "  Attempting uninstall: gast\n",
      "    Found existing installation: gast 0.5.3\n",
      "    Uninstalling gast-0.5.3:\n",
      "      Successfully uninstalled gast-0.5.3\n",
      "  Attempting uninstall: tensorboard\n",
      "    Found existing installation: tensorboard 1.14.0\n",
      "    Uninstalling tensorboard-1.14.0:\n",
      "      Successfully uninstalled tensorboard-1.14.0\n",
      "  Attempting uninstall: tensorflow\n",
      "    Found existing installation: tensorflow 1.14.0\n",
      "    Uninstalling tensorflow-1.14.0:\n",
      "      Successfully uninstalled tensorflow-1.14.0\n",
      "Successfully installed astunparse-1.6.3 cachetools-4.2.4 gast-0.3.3 google-auth-1.35.0 google-auth-oauthlib-0.4.6 h5py-2.10.0 oauthlib-3.2.0 opt-einsum-3.3.0 requests-oauthlib-1.3.1 rsa-4.8 scipy-1.4.1 tensorboard-2.2.2 tensorboard-plugin-wit-1.8.1 tensorflow-2.2.0 tensorflow-estimator-2.2.0\n",
      "Requirement already satisfied: pillow==8.1.0 in /home/jupyterlab/conda/envs/python/lib/python3.7/site-packages (8.1.0)\n"
     ]
    }
   ],
   "source": [
    "!pip install grpcio==1.24.3\n",
    "!pip install tensorflow==2.2.0\n",
    "!pip install pillow==8.1.0"
   ]
  },
  {
   "cell_type": "markdown",
   "metadata": {},
   "source": [
    "<b>Notice:</b> This notebook has been created with TensorFlow version 2.2, and might not work with other versions. Therefore we check:\n"
   ]
  },
  {
   "cell_type": "code",
   "execution_count": 3,
   "metadata": {},
   "outputs": [],
   "source": [
    "import tensorflow as tf\n",
    "from IPython.display import Markdown, display\n",
    "\n",
    "def printmd(string):\n",
    "    display(Markdown('# <span style=\"color:red\">'+string+'</span>'))\n",
    "\n",
    "\n",
    "if not tf.__version__ == '2.2.0':\n",
    "    printmd('<<<<<!!!!! ERROR !!!! please upgrade to TensorFlow 2.2.0, or restart your Kernel (Kernel->Restart & Clear Output)>>>>>')"
   ]
  },
  {
   "cell_type": "markdown",
   "metadata": {},
   "source": [
    "Now, we load in all the packages that we use to create the net including the TensorFlow package:\n"
   ]
  },
  {
   "cell_type": "code",
   "execution_count": 4,
   "metadata": {},
   "outputs": [],
   "source": [
    "import tensorflow as tf\n",
    "import numpy as np\n",
    "\n",
    "from PIL import Image\n",
    "from utils import tile_raster_images\n",
    "import matplotlib.pyplot as plt\n",
    "%matplotlib inline"
   ]
  },
  {
   "cell_type": "markdown",
   "metadata": {},
   "source": [
    "<hr>\n"
   ]
  },
  {
   "cell_type": "markdown",
   "metadata": {},
   "source": [
    "<a id=\"ref2\"></a>\n",
    "\n",
    "<h3>RBM layers</h3>\n",
    "\n",
    "An RBM has two layers. The first layer of the RBM is called the <b>visible</b> (or input layer). Imagine that our toy example, has only vectors with 7 values, so the visible layer must have $V=7$ input nodes.\n",
    "The second layer is the <b>hidden</b> layer, which has $H$ neurons in our case. Each hidden node takes on values of either 0 or 1 (i.e., $h_i = 1$ or $h_i$ = 0), with a probability that is a logistic function of the inputs it receives from the other $V$ visible units, called for example, $p(h_i = 1)$. For our toy sample, we'll use 2 nodes in the hidden layer, so $H = 2$.\n",
    "\n",
    "<center><img src=\"https://ibm.box.com/shared/static/eu26opvcefgls6vnwuo29uwp0nudmokh.png\" alt=\"RBM Model\" style=\"width: 400px;\"></center>\n"
   ]
  },
  {
   "cell_type": "markdown",
   "metadata": {},
   "source": [
    "Each node in the first layer also has a <b>bias</b>. We will denote the bias as $v\\_{bias}$, and this single value is shared among the $V$ visible units.\n",
    "\n",
    "The <b>bias</b> of the second is defined similarly as $h\\_{bias}$, and this single value among the $H$ hidden units.\n"
   ]
  },
  {
   "cell_type": "code",
   "execution_count": 5,
   "metadata": {},
   "outputs": [
    {
     "name": "stderr",
     "output_type": "stream",
     "text": [
      "2022-05-13 05:03:51.970284: W tensorflow/stream_executor/platform/default/dso_loader.cc:55] Could not load dynamic library 'libcuda.so.1'; dlerror: libcuda.so.1: cannot open shared object file: No such file or directory\n",
      "2022-05-13 05:03:51.970328: E tensorflow/stream_executor/cuda/cuda_driver.cc:313] failed call to cuInit: UNKNOWN ERROR (303)\n",
      "2022-05-13 05:03:51.970354: I tensorflow/stream_executor/cuda/cuda_diagnostics.cc:156] kernel driver does not appear to be running on this host (jupyterlab-jesus12): /proc/driver/nvidia/version does not exist\n",
      "2022-05-13 05:03:51.977548: I tensorflow/core/platform/cpu_feature_guard.cc:143] Your CPU supports instructions that this TensorFlow binary was not compiled to use: AVX2 AVX512F FMA\n",
      "2022-05-13 05:03:51.984360: I tensorflow/core/platform/profile_utils/cpu_utils.cc:102] CPU Frequency: 2394290000 Hz\n",
      "2022-05-13 05:03:51.984850: I tensorflow/compiler/xla/service/service.cc:168] XLA service 0x7fc72c000b20 initialized for platform Host (this does not guarantee that XLA will be used). Devices:\n",
      "2022-05-13 05:03:51.984881: I tensorflow/compiler/xla/service/service.cc:176]   StreamExecutor device (0): Host, Default Version\n"
     ]
    }
   ],
   "source": [
    "v_bias = tf.Variable(tf.zeros([7]), tf.float32)\n",
    "h_bias = tf.Variable(tf.zeros([2]), tf.float32)"
   ]
  },
  {
   "cell_type": "markdown",
   "metadata": {},
   "source": [
    "We have to define weights among the input layer and hidden layer nodes. In the weight matrix, the number of rows are equal to the input nodes, and the number of columns are equal to the output nodes. We define a tensor $\\mathbf{W}$ of shape = (7,2), where the number of visible neurons = 7, and the number of hidden neurons = 2.\n"
   ]
  },
  {
   "cell_type": "code",
   "execution_count": 6,
   "metadata": {},
   "outputs": [],
   "source": [
    "W = tf.constant(np.random.normal(loc=0.0, scale=1.0, size=(7, 2)).astype(np.float32))"
   ]
  },
  {
   "cell_type": "markdown",
   "metadata": {},
   "source": [
    "<hr>\n"
   ]
  },
  {
   "cell_type": "markdown",
   "metadata": {},
   "source": [
    "<a id=\"ref3\"></a>\n",
    "\n",
    "<h3>What RBM can do after training?</h3>\n",
    "Think of RBM as a model that has been trained based on images of a dataset of many SUV and sedan cars. Also, imagine that the RBM network has only two hidden nodes, where one node encodes the weight and, and the other encodes the size.  \n",
    "In a sense, the different configurations represent different cars, where one is an SUV and the other is Sedan.  In a training process, through many forward and backward passes, the RBM adjust its weights to send a stronger signal to either the SUV node (0, 1) or the sedan node (1, 0) in the hidden layer, given the pixels of images. Now, given an SUV in hidden layer, which distribution of pixels should we expect? RBM can give you 2 things. First, it encodes your images in hidden layer. Second, it gives you the probability of observing a case, given some hidden values.\n",
    "\n",
    "<h3>The Inference Process</h3>\n",
    "\n",
    "RBM has two phases:\n",
    "\n",
    "<ul>\n",
    "    <li>Forward Pass</li>  \n",
    "    <li>Backward Pass or Reconstruction</li>\n",
    "</ul>\n",
    "\n",
    "<b>Phase 1) Forward pass:</b>\n",
    "\n",
    "Input one training sample (one image) $\\mathbf{x}$ through all visible nodes, and pass it to all hidden nodes. Processing happens in each node in the hidden layer. This computation begins by making stochastic decisions about whether to transmit that input or not (i.e. to determine the state of each hidden layer).  First, the probability vector is computed using the input feature vector $\\mathbf{x}$, the weight matrix $\\mathbf{W}$, and the bias term $h\\_{bias}$, as\n",
    "\n",
    "$$p({h_j}|\\mathbf x)= \\sigma( \\sum\\_{i=1}^V W\\_{ij} x_i + h\\_{bias} )$$,\n",
    "\n",
    "where $\\sigma(z) = (1+e^{-z})^{-1}$ is the logistic function.\n",
    "\n",
    "So, what does $p({h_j})$ represent? It is the <b>probability distribution</b> of the hidden units. That is, RBM uses inputs $x_i$ to make predictions about hidden node activations. For example, imagine that the hidden node activation values are \\[0.51 0.84] for the first training item. It tells you that the conditional probability for each hidden neuron for Phase 1 is:\n",
    "\n",
    "$$p(h\\_{1} = 1|\\mathbf{v}) = 0.51$$\n",
    "$$p(h\\_{2} = 1|\\mathbf{v}) = 0.84$$\n",
    "\n",
    "As a result, for each row in the training set, vector of probabilities is generated.  In TensorFlow, this is referred to as a `tensor` with a shape of (1,2).\n",
    "\n",
    "We then turn unit $j$ with probability $p(h\\_{j}|\\mathbf{v})$, and turn it off with probability $1 - p(h\\_{j}|\\mathbf{v})$ by generating a uniform random number vector $\\mathbf{\\xi}$, and comparing it to the activation probability as\n",
    "\n",
    "<center>If $\\xi_j>p(h_{j}|\\mathbf{v})$, then $h_j=1$, else $h_j=0$.</center>\n",
    "\n",
    "Therefore, the conditional probability of a configuration of $\\mathbf{h}$ given $\\mathbf{v}$ (for a training sample) is:\n",
    "\n",
    "$$p(\\mathbf{h} \\mid \\mathbf{v}) = \\prod\\_{j=1}^H p(h_j \\mid \\mathbf{v})$$\n",
    "\n",
    "where $H$ is the number of hidden units.\n"
   ]
  },
  {
   "cell_type": "markdown",
   "metadata": {},
   "source": [
    "Before we go further, let's look at a toy example for one case out of all input. Assume that we have a trained RBM, and a very simple input vector, such as \\[1.0, 0.0, 0.0, 1.0, 0.0, 0.0, 0.0].\\\n",
    "Let's see what the output of forward pass would look like:\n"
   ]
  },
  {
   "cell_type": "code",
   "execution_count": 7,
   "metadata": {},
   "outputs": [
    {
     "name": "stdout",
     "output_type": "stream",
     "text": [
      "Input:  tf.Tensor([[1. 0. 0. 1. 0. 0. 0.]], shape=(1, 7), dtype=float32)\n",
      "hb:  tf.Tensor([0.1 0.1], shape=(2,), dtype=float32)\n",
      "w:  tf.Tensor(\n",
      "[[-0.7227503   0.28859597]\n",
      " [ 0.01913572  0.9719373 ]\n",
      " [-2.1514192   1.7276071 ]\n",
      " [ 0.41276422 -0.8985759 ]\n",
      " [ 0.94590634  0.96253264]\n",
      " [ 0.6350555   0.5049109 ]\n",
      " [-0.5106214  -1.0484881 ]], shape=(7, 2), dtype=float32)\n",
      "p(h|v):  tf.Tensor([[0.44769552 0.37519825]], shape=(1, 2), dtype=float32)\n",
      "h0 states: tf.Tensor([[1. 0.]], shape=(1, 2), dtype=float32)\n"
     ]
    }
   ],
   "source": [
    "X = tf.constant([[1.0, 0.0, 0.0, 1.0, 0.0, 0.0, 0.0]], tf.float32)\n",
    "\n",
    "v_state = X\n",
    "print (\"Input: \", v_state)\n",
    "\n",
    "h_bias = tf.constant([0.1, 0.1])\n",
    "print (\"hb: \", h_bias)\n",
    "print (\"w: \", W)\n",
    "\n",
    "# Calculate the probabilities of turning the hidden units on:\n",
    "h_prob = tf.nn.sigmoid(tf.matmul(v_state, W) + h_bias)  #probabilities of the hidden units\n",
    "print (\"p(h|v): \", h_prob)\n",
    "\n",
    "# Draw samples from the distribution:\n",
    "h_state = tf.nn.relu(tf.sign(h_prob - tf.random.uniform(tf.shape(h_prob)))) #states\n",
    "print (\"h0 states:\", h_state)"
   ]
  },
  {
   "cell_type": "markdown",
   "metadata": {},
   "source": [
    "<b>Phase 2) Backward Pass (Reconstruction):</b>\n",
    "The RBM reconstructs data by making several forward and backward passes between the visible and hidden layers.\n",
    "\n",
    "So, in the second phase (i.e. reconstruction phase), the samples from the hidden layer (i.e. $\\mathbf h$) becomes the input in the backward pass. The same weight matrix and visible layer biases are used to passed to the sigmoid function. The reproduced output is a reconstruction which is an approximation of the original input.\n"
   ]
  },
  {
   "cell_type": "code",
   "execution_count": 8,
   "metadata": {},
   "outputs": [
    {
     "name": "stdout",
     "output_type": "stream",
     "text": [
      "b:  tf.Tensor([0.1 0.2 0.1 0.1 0.1 0.2 0.1], shape=(7,), dtype=float32)\n",
      "p(vi∣h):  tf.Tensor(\n",
      "[[0.34915623 0.5545658  0.11390905 0.62545425 0.739988   0.6974228\n",
      "  0.39876315]], shape=(1, 7), dtype=float32)\n",
      "v probability states:  tf.Tensor([[0. 0. 0. 1. 1. 1. 0.]], shape=(1, 7), dtype=float32)\n"
     ]
    }
   ],
   "source": [
    "vb = tf.constant([0.1, 0.2, 0.1, 0.1, 0.1, 0.2, 0.1])\n",
    "print (\"b: \", vb)\n",
    "v_prob = tf.nn.sigmoid(tf.matmul(h_state, tf.transpose(W)) + vb)\n",
    "print (\"p(vi∣h): \", v_prob)\n",
    "v_state = tf.nn.relu(tf.sign(v_prob - tf.random.uniform(tf.shape(v_prob))))\n",
    "print (\"v probability states: \", v_state)"
   ]
  },
  {
   "cell_type": "markdown",
   "metadata": {},
   "source": [
    "RBM learns a probability distribution over the input, and then, after being trained, the RBM can generate new samples from the learned probability distribution. As you know, <b>probability distribution</b>, is a mathematical function that provides the probabilities of occurrence of different possible outcomes in an experiment.\n",
    "\n",
    "The (conditional) probability distribution over the visible units v is given by\n",
    "\n",
    "$$p(\\mathbf{v} \\mid \\mathbf{h}) = \\prod\\_{i=1}^V p(v_i \\mid \\mathbf{h}),$$\n",
    "\n",
    "where,\n",
    "\n",
    "$$p(v_i \\mid \\mathbf{h}) = \\sigma\\left(\\sum\\_{j=1}^H W\\_{ji} h_j + v\\_{bias} \\right)$$\n",
    "\n",
    "so, given current state of hidden units and weights, what is the probability of generating \\[1. 0. 0. 1. 0. 0. 0.] in reconstruction phase, based on the above <b>probability distribution</b> function?\n"
   ]
  },
  {
   "cell_type": "code",
   "execution_count": 9,
   "metadata": {},
   "outputs": [
    {
     "name": "stdout",
     "output_type": "stream",
     "text": [
      "input X: [[1. 0. 0. 1. 0. 0. 0.]]\n",
      "probablity vector: [0.34915623 0.5545658  0.11390905 0.62545425 0.739988   0.6974228\n",
      " 0.39876315]\n",
      "probability of generating X:  0.004077109\n"
     ]
    }
   ],
   "source": [
    "inp = X\n",
    "print(\"input X:\" , inp.numpy())\n",
    "\n",
    "print(\"probablity vector:\" , v_prob[0].numpy())\n",
    "v_probability = 1\n",
    "\n",
    "for elm, p in zip(inp[0],v_prob[0]) :\n",
    "    if elm ==1:\n",
    "        v_probability *= p\n",
    "    else:\n",
    "        v_probability *= (1-p)\n",
    "\n",
    "print(\"probability of generating X: \" , v_probability.numpy())"
   ]
  },
  {
   "cell_type": "markdown",
   "metadata": {},
   "source": [
    "How similar are vectors $\\mathbf{x}$ and $\\mathbf{v}$? Of course, the reconstructed values most likely will not look anything like the input vector, because our network has not been trained yet. Our objective is to train the model in such a way that the input vector and reconstructed vector to be same. Therefore, based on how different the input values look to the ones that we just reconstructed, the weights are adjusted.\n"
   ]
  },
  {
   "cell_type": "markdown",
   "metadata": {},
   "source": [
    "<hr>\n"
   ]
  },
  {
   "cell_type": "markdown",
   "metadata": {},
   "source": [
    "<h2>MNIST</h2>\n"
   ]
  },
  {
   "cell_type": "markdown",
   "metadata": {},
   "source": [
    "We will be using the MNIST dataset to practice the usage of RBMs. The following cell loads the MNIST dataset.\n"
   ]
  },
  {
   "cell_type": "code",
   "execution_count": 10,
   "metadata": {},
   "outputs": [
    {
     "name": "stdout",
     "output_type": "stream",
     "text": [
      "Downloading data from https://storage.googleapis.com/tensorflow/tf-keras-datasets/mnist.npz\n",
      "11493376/11490434 [==============================] - 0s 0us/step\n"
     ]
    }
   ],
   "source": [
    "#loading training and test data\n",
    "mnist = tf.keras.datasets.mnist\n",
    "(trX, trY), (teX, teY) = mnist.load_data()\n",
    "\n",
    "# showing an example of the Flatten class and operation\n",
    "from tensorflow.keras.layers import Flatten\n",
    "flatten = Flatten(dtype='float32')\n",
    "trX = flatten(trX/255.0)\n",
    "trY = flatten(trY/255.0)"
   ]
  },
  {
   "cell_type": "markdown",
   "metadata": {},
   "source": [
    "Lets look at the dimension of the images.\n"
   ]
  },
  {
   "cell_type": "markdown",
   "metadata": {},
   "source": [
    "MNIST images have 784 pixels, so the visible layer must have 784 input nodes.  For our case, we'll use 50 nodes in the hidden layer, so i = 50.\n"
   ]
  },
  {
   "cell_type": "code",
   "execution_count": 11,
   "metadata": {
    "tags": []
   },
   "outputs": [],
   "source": [
    "vb = tf.Variable(tf.zeros([784]), tf.float32)\n",
    "hb = tf.Variable(tf.zeros([50]), tf.float32)"
   ]
  },
  {
   "cell_type": "markdown",
   "metadata": {},
   "source": [
    "Let $\\mathbf W$ be the Tensor of 784x50 (784 - number of visible neurons, 50 - number of hidden neurons) that represents weights between the neurons.\n"
   ]
  },
  {
   "cell_type": "code",
   "execution_count": 12,
   "metadata": {
    "tags": []
   },
   "outputs": [],
   "source": [
    "W = tf.Variable(tf.zeros([784,50]), tf.float32)"
   ]
  },
  {
   "cell_type": "markdown",
   "metadata": {},
   "source": [
    "Lets define the visible layer:\n"
   ]
  },
  {
   "cell_type": "code",
   "execution_count": 13,
   "metadata": {},
   "outputs": [
    {
     "data": {
      "text/plain": [
       "<tf.Tensor: shape=(1, 50), dtype=float32, numpy=\n",
       "array([[0., 0., 0., 0., 0., 0., 0., 0., 0., 0., 0., 0., 0., 0., 0., 0.,\n",
       "        0., 0., 0., 0., 0., 0., 0., 0., 0., 0., 0., 0., 0., 0., 0., 0.,\n",
       "        0., 0., 0., 0., 0., 0., 0., 0., 0., 0., 0., 0., 0., 0., 0., 0.,\n",
       "        0., 0.]], dtype=float32)>"
      ]
     },
     "execution_count": 13,
     "metadata": {},
     "output_type": "execute_result"
    }
   ],
   "source": [
    "v0_state = tf.Variable(tf.zeros([784]), tf.float32)\n",
    "\n",
    "#testing to see if the matrix product works\n",
    "tf.matmul( [v0_state], W)"
   ]
  },
  {
   "cell_type": "markdown",
   "metadata": {},
   "source": [
    "Now, we can define hidden layer:\n"
   ]
  },
  {
   "cell_type": "code",
   "execution_count": 14,
   "metadata": {},
   "outputs": [
    {
     "name": "stdout",
     "output_type": "stream",
     "text": [
      "h0_state shape:  tf.Tensor([ 1 50], shape=(2,), dtype=int32)\n",
      "first 15 hidden states:  tf.Tensor([1. 1. 1. 0. 1. 1. 1. 0. 0. 1. 1. 0. 1. 1. 1.], shape=(15,), dtype=float32)\n"
     ]
    }
   ],
   "source": [
    "#computing the hidden nodes probability vector and checking shape\n",
    "h0_prob = tf.nn.sigmoid(tf.matmul([v0_state], W) + hb)  #probabilities of the hidden units\n",
    "print(\"h0_state shape: \" , tf.shape(h0_prob))\n",
    "\n",
    "#defining a function to return only the generated hidden states \n",
    "def hidden_layer(v0_state, W, hb):\n",
    "    h0_prob = tf.nn.sigmoid(tf.matmul([v0_state], W) + hb)  #probabilities of the hidden units\n",
    "    h0_state = tf.nn.relu(tf.sign(h0_prob - tf.random.uniform(tf.shape(h0_prob)))) #sample_h_given_X\n",
    "    return h0_state\n",
    "\n",
    "\n",
    "h0_state = hidden_layer(v0_state, W, hb)\n",
    "print(\"first 15 hidden states: \", h0_state[0][0:15])"
   ]
  },
  {
   "cell_type": "markdown",
   "metadata": {},
   "source": [
    "Now, we define reconstruction part:\n"
   ]
  },
  {
   "cell_type": "code",
   "execution_count": 15,
   "metadata": {},
   "outputs": [
    {
     "name": "stdout",
     "output_type": "stream",
     "text": [
      "hidden state shape:  (1, 50)\n",
      "v0 state shape:   (784,)\n",
      "v1 state shape:   (784,)\n"
     ]
    }
   ],
   "source": [
    "def reconstructed_output(h0_state, W, vb):\n",
    "    v1_prob = tf.nn.sigmoid(tf.matmul(h0_state, tf.transpose(W)) + vb) \n",
    "    v1_state = tf.nn.relu(tf.sign(v1_prob - tf.random.uniform(tf.shape(v1_prob)))) #sample_v_given_h\n",
    "    return v1_state[0]\n",
    "\n",
    "v1_state = reconstructed_output(h0_state, W, vb)\n",
    "print(\"hidden state shape: \", h0_state.shape)\n",
    "print(\"v0 state shape:  \", v0_state.shape)\n",
    "print(\"v1 state shape:  \", v1_state.shape)"
   ]
  },
  {
   "cell_type": "markdown",
   "metadata": {},
   "source": [
    "<h3>What is the objective function?</h3>\n",
    "\n",
    "<b>Goal</b>: Maximize the likelihood of our data being drawn from that distribution\n",
    "\n",
    "<b>Calculate error:</b>\\\n",
    "In each epoch, we compute the \"error\" as a sum of the squared difference between step 1 and step n,\n",
    "e.g the error shows the difference between the data and its reconstruction.\n",
    "\n",
    "<b>Note:</b> tf.reduce_mean computes the mean of elements across dimensions of a tensor.\n"
   ]
  },
  {
   "cell_type": "code",
   "execution_count": 16,
   "metadata": {},
   "outputs": [
    {
     "name": "stdout",
     "output_type": "stream",
     "text": [
      "error 0.5089286\n"
     ]
    }
   ],
   "source": [
    "def error(v0_state, v1_state):\n",
    "    return tf.reduce_mean(tf.square(v0_state - v1_state))\n",
    "\n",
    "err = tf.reduce_mean(tf.square(v0_state - v1_state))\n",
    "print(\"error\" , err.numpy())"
   ]
  },
  {
   "cell_type": "markdown",
   "metadata": {},
   "source": [
    "<a id=\"ref4\"></a>\n",
    "\n",
    "<h3>Training the Model</h3>\n",
    "<b>Warning...</b> The following part is math-heavy, but you can skip it if you just want to run the cells in the next section.\n",
    "\n",
    "As mentioned, we want to give a high probability to the input data we train on. So, in order to train an RBM, we have to maximize the product of probabilities assigned to all rows $\\mathbf{v}$ (images) in the training set $\\mathbf{V}$ (a matrix, where each row of it is treated as a visible vector $\\mathbf{v}$)\n",
    "\n",
    "$$\\arg \\max_W \\prod\\_{\\mathbf{v}\\in\\mathbf{V}\\_T} p(\\mathbf{v})$$\n",
    "\n",
    "which is equivalent to maximizing the expectation of the log probability, given as\n",
    "\n",
    "$$\\arg\\max_W\\left\\[ \\mathbb{E} \\left(\\prod\\_{\\mathbf v\\in \\mathbf V}\\text{log} \\left(p(\\mathbf v)\\right) \\right) \\right].$$\n",
    "\n",
    "So, we have to update the weights $W\\_{ij}$  to increase $p(\\mathbf{v})$ for all $\\mathbf{v}$ in our training data during training. So we have to calculate the derivative:\n",
    "\n",
    "$$\\frac{\\partial \\log p(\\mathbf v)}{\\partial W\\_{ij}}$$\n",
    "\n",
    "This cannot be easily done by typical <b>gradient descent (SGD)</b>, so we can use another approach, which has 2 steps:\n",
    "\n",
    "<ol>\n",
    "    <li>Gibbs Sampling</li>\n",
    "    <li>Contrastive Divergence</li>\n",
    "</ol>    \n",
    "\n",
    "<h3>Gibbs Sampling</h3>   \n",
    "\n",
    "<h4>Gibbs Sampling Step 1</h4> \n",
    "Given an input vector $\\mathbf{v}$, we are using $p(\\mathbf{h}|\\mathbf{v})$ to predict the hidden values $\\mathbf{h}$. \n",
    "  $$p({h_j}|\\mathbf v)= \\sigma\\left(\\sum_{i=1}^V W_{ij} v_i + h_{bias} \\right)$$\n",
    "The samples are generated from this distribution by generating the uniform random variate vector $\\mathbf{\\xi} \\sim U[0,1]$ of length $H$ and comparing to the computed probabilities as\n",
    "\n",
    "<center>If $\\xi_j>p(h_{j}|\\mathbf{v})$, then $h_j=1$, else $h_j=0$.</center>\n",
    "\n",
    "<h4>Gibbs Sampling Step 2</h4> \n",
    "Then, knowing the hidden values, we use $p(\\mathbf v| \\mathbf h)$ for reconstructing of new input values v. \n",
    "\n",
    "$$p({v_i}|\\mathbf h)= \\sigma\\left(\\sum\\_{j=1}^H W^{T}*{ij} h_j + v*{bias} \\right)$$\n",
    "\n",
    "The samples are generated from this distribution by generating a uniform random variate vector $\\mathbf{\\xi} \\sim U\\[0,1]$ of length $V$ and comparing to the computed probabilities as\n",
    "\n",
    "<center>If $\\xi_i>p(v_{i}|\\mathbf{h})$, then $v_i=1$, else $v_i=0$.</center>\n",
    "\n",
    "Let vectors $\\mathbf v_k$ and $\\mathbf h_k$ be for the $k$th iteration.  In general, the $kth$ state is generrated as:\n",
    "\n",
    "<b>Iteration</b> $k$:\n",
    "\n",
    "$$\\mathbf v\\_{k-1} \\Rightarrow p(\\mathbf h\\_{k-1}|\\mathbf v\\_{k-1})\\Rightarrow \\mathbf h\\_{k-1}\\Rightarrow p(\\mathbf v\\_{k}|\\mathbf h\\_{k-1})\\Rightarrow \\mathbf v_k$$\n",
    "\n",
    "<h3>Contrastive Divergence (CD-k)</h3>\n",
    "The update of the weight matrix is done during the Contrastive Divergence step. \n",
    "\n",
    "Vectors v0 and vk are used to calculate the activation probabilities for hidden values h0 and hk. The difference between the outer products of those probabilities with input vectors v0 and vk results in the update matrix:\n",
    "\n",
    "$$\\Delta \\mathbf W_k =\\mathbf v_k \\otimes \\mathbf h_k - \\mathbf v\\_{k-1} \\otimes \\mathbf h\\_{k-1}$$\n",
    "\n",
    "Contrastive Divergence is actually matrix of values that is computed and used to adjust values of the $\\mathbf W$ matrix. Changing $\\mathbf W$ incrementally leads to training of the  $\\mathbf W$ values. Then, on each step (epoch), $\\mathbf W$ is updated using the following:\n",
    "\n",
    "$$\\mathbf W_k = \\mathbf W\\_{k-1} + \\alpha \\* \\Delta \\mathbf W_k$$\n",
    "\n",
    "Reconstruction steps:\n",
    "\n",
    "<ul>\n",
    "    <li> Get one data point from data set, like <i>x</i>, and pass it through the following steps:</li>\n",
    "\n",
    "<b>Iteration</b> $k=1$:\n",
    "\n",
    "Sampling (starting with input image)\n",
    "$$\\mathbf x = \\mathbf v\\_0 \\Rightarrow p(\\mathbf h\\_0|\\mathbf v\\_0)\\Rightarrow \\mathbf h\\_0 \\Rightarrow p(\\mathbf v\\_1|\\mathbf h\\_0)\\Rightarrow \\mathbf v\\_1$$\\\n",
    "followed by the CD-k step\n",
    "$$\\Delta \\mathbf W\\_1 =\\mathbf v\\_1 \\otimes \\mathbf h\\_1 - \\mathbf v\\_{0} \\otimes \\mathbf h\\_{0}$$\\\n",
    "$$\\mathbf W\\_1 = \\mathbf W\\_{0} + \\alpha \\* \\Delta \\mathbf W\\_1$$\n",
    "\n",
    "<li> $\\mathbf v_1$ is the reconstruction of $\\mathbf x$ sent to the next iteration).</li>\n",
    "\n",
    "<b>Iteration</b> $k=2$:\n",
    "\n",
    "Sampling (starting with $\\mathbf v\\_1$)\n",
    "\n",
    "$$\\mathbf v\\_1 \\Rightarrow p(\\mathbf h\\_1|\\mathbf v\\_1)\\Rightarrow \\mathbf h\\_1\\Rightarrow p(\\mathbf v\\_2|\\mathbf h\\_1)\\Rightarrow \\mathbf v\\_2$$\n",
    "\n",
    "followed by the CD-k step\n",
    "$$\\Delta \\mathbf W\\_2 =\\mathbf v\\_2 \\otimes \\mathbf h\\_2 - \\mathbf v\\_{1} \\otimes \\mathbf h\\_{1}$$\\\n",
    "$$\\mathbf W\\_2 = \\mathbf W\\_{1} + \\alpha \\* \\Delta \\mathbf W\\_2$$\n",
    "\n",
    "<li> $\\mathbf v_2$ is the reconstruction of $\\mathbf v_1$ sent to the next iteration).</li>    \n",
    "\n",
    "<b>Iteration</b> $k=K$:\n",
    "\n",
    "Sampling (starting with $\\mathbf v\\_{K-1}$)\n",
    "\n",
    "$$\\mathbf v\\_{K-1} \\Rightarrow p(\\mathbf h\\_{K-1}|\\mathbf v\\_{K-1})\\Rightarrow \\mathbf h\\_{K-1}\\Rightarrow p(\\mathbf v_K|\\mathbf h\\_{K-1})\\Rightarrow \\mathbf v_K$$\n",
    "\n",
    "followed by the CD-k step\n",
    "$$\\Delta \\mathbf W_K =\\mathbf v_K \\otimes \\mathbf h_K - \\mathbf v\\_{K-1} \\otimes \\mathbf h\\_{K-1}$$\\\n",
    "$$\\mathbf W_K = \\mathbf W\\_{K-1} + \\alpha \\* \\Delta \\mathbf W_K$$\n",
    "\n",
    "<b>What is $\\alpha$?</b>\\\n",
    "Here, alpha is some small step size, and is also known as the \"learning rate\".\n"
   ]
  },
  {
   "cell_type": "markdown",
   "metadata": {},
   "source": [
    "$K$ is adjustable, and good performance can be achieved with $K=1$, so that we just take one set of sampling steps per image.\n"
   ]
  },
  {
   "cell_type": "code",
   "execution_count": 17,
   "metadata": {},
   "outputs": [],
   "source": [
    "h1_prob = tf.nn.sigmoid(tf.matmul([v1_state], W) + hb)\n",
    "h1_state = tf.nn.relu(tf.sign(h1_prob - tf.random.uniform(tf.shape(h1_prob)))) #sample_h_given_X"
   ]
  },
  {
   "cell_type": "markdown",
   "metadata": {},
   "source": [
    "Lets look at the error of the first run:\n"
   ]
  },
  {
   "cell_type": "code",
   "execution_count": 18,
   "metadata": {},
   "outputs": [
    {
     "name": "stdout",
     "output_type": "stream",
     "text": [
      "error:  tf.Tensor(0.5089286, shape=(), dtype=float32)\n"
     ]
    }
   ],
   "source": [
    "print(\"error: \", error(v0_state, v1_state))"
   ]
  },
  {
   "cell_type": "code",
   "execution_count": 19,
   "metadata": {},
   "outputs": [
    {
     "name": "stdout",
     "output_type": "stream",
     "text": [
      "Epoch: 0 batch #: 1  of 300 sample #: 199 reconstruction error: 0.167155\n",
      "Epoch: 0 batch #: 2  of 300 sample #: 199 reconstruction error: 0.222261\n",
      "Epoch: 0 batch #: 3  of 300 sample #: 199 reconstruction error: 0.124726\n",
      "Epoch: 0 batch #: 4  of 300 sample #: 199 reconstruction error: 0.134450\n",
      "Epoch: 0 batch #: 5  of 300 sample #: 199 reconstruction error: 0.099343\n",
      "Epoch: 0 batch #: 6  of 300 sample #: 199 reconstruction error: 0.188225\n",
      "Epoch: 0 batch #: 7  of 300 sample #: 199 reconstruction error: 0.094141\n",
      "Epoch: 0 batch #: 8  of 300 sample #: 199 reconstruction error: 0.098620\n",
      "Epoch: 0 batch #: 9  of 300 sample #: 199 reconstruction error: 0.102438\n",
      "Epoch: 0 batch #: 10  of 300 sample #: 199 reconstruction error: 0.172905\n",
      "Epoch: 0 batch #: 11  of 300 sample #: 199 reconstruction error: 0.094667\n",
      "Epoch: 0 batch #: 12  of 300 sample #: 199 reconstruction error: 0.145079\n",
      "Epoch: 0 batch #: 13  of 300 sample #: 199 reconstruction error: 0.050043\n",
      "Epoch: 0 batch #: 14  of 300 sample #: 199 reconstruction error: 0.100942\n",
      "Epoch: 0 batch #: 15  of 300 sample #: 199 reconstruction error: 0.104748\n",
      "Epoch: 0 batch #: 16  of 300 sample #: 199 reconstruction error: 0.108538\n",
      "Epoch: 0 batch #: 17  of 300 sample #: 199 reconstruction error: 0.069695\n",
      "Epoch: 0 batch #: 18  of 300 sample #: 199 reconstruction error: 0.131709\n",
      "Epoch: 0 batch #: 19  of 300 sample #: 199 reconstruction error: 0.137600\n",
      "Epoch: 0 batch #: 20  of 300 sample #: 199 reconstruction error: 0.101791\n",
      "Epoch: 0 batch #: 21  of 300 sample #: 199 reconstruction error: 0.091804\n",
      "Epoch: 0 batch #: 22  of 300 sample #: 199 reconstruction error: 0.079179\n",
      "Epoch: 0 batch #: 23  of 300 sample #: 199 reconstruction error: 0.099245\n",
      "Epoch: 0 batch #: 24  of 300 sample #: 199 reconstruction error: 0.131897\n",
      "Epoch: 0 batch #: 25  of 300 sample #: 199 reconstruction error: 0.095218\n",
      "Epoch: 0 batch #: 26  of 300 sample #: 199 reconstruction error: 0.098031\n",
      "Epoch: 0 batch #: 27  of 300 sample #: 199 reconstruction error: 0.108858\n",
      "Epoch: 0 batch #: 28  of 300 sample #: 199 reconstruction error: 0.074121\n",
      "Epoch: 0 batch #: 29  of 300 sample #: 199 reconstruction error: 0.098240\n",
      "Epoch: 0 batch #: 30  of 300 sample #: 199 reconstruction error: 0.093750\n",
      "Epoch: 0 batch #: 31  of 300 sample #: 199 reconstruction error: 0.089393\n",
      "Epoch: 0 batch #: 32  of 300 sample #: 199 reconstruction error: 0.121900\n",
      "Epoch: 0 batch #: 33  of 300 sample #: 199 reconstruction error: 0.048663\n",
      "Epoch: 0 batch #: 34  of 300 sample #: 199 reconstruction error: 0.073174\n",
      "Epoch: 0 batch #: 35  of 300 sample #: 199 reconstruction error: 0.076341\n",
      "Epoch: 0 batch #: 36  of 300 sample #: 199 reconstruction error: 0.080342\n",
      "Epoch: 0 batch #: 37  of 300 sample #: 199 reconstruction error: 0.059007\n",
      "Epoch: 0 batch #: 38  of 300 sample #: 199 reconstruction error: 0.077371\n",
      "Epoch: 0 batch #: 39  of 300 sample #: 199 reconstruction error: 0.106813\n",
      "Epoch: 0 batch #: 40  of 300 sample #: 199 reconstruction error: 0.115010\n",
      "Epoch: 0 batch #: 41  of 300 sample #: 199 reconstruction error: 0.080939\n",
      "Epoch: 0 batch #: 42  of 300 sample #: 199 reconstruction error: 0.073268\n",
      "Epoch: 0 batch #: 43  of 300 sample #: 199 reconstruction error: 0.129300\n",
      "Epoch: 0 batch #: 44  of 300 sample #: 199 reconstruction error: 0.079448\n",
      "Epoch: 0 batch #: 45  of 300 sample #: 199 reconstruction error: 0.063698\n",
      "Epoch: 0 batch #: 46  of 300 sample #: 199 reconstruction error: 0.043821\n",
      "Epoch: 0 batch #: 47  of 300 sample #: 199 reconstruction error: 0.036944\n",
      "Epoch: 0 batch #: 48  of 300 sample #: 199 reconstruction error: 0.039806\n",
      "Epoch: 0 batch #: 49  of 300 sample #: 199 reconstruction error: 0.141070\n",
      "Epoch: 0 batch #: 50  of 300 sample #: 199 reconstruction error: 0.056255\n",
      "Epoch: 0 batch #: 51  of 300 sample #: 199 reconstruction error: 0.060130\n",
      "Epoch: 0 batch #: 52  of 300 sample #: 199 reconstruction error: 0.033960\n",
      "Epoch: 0 batch #: 53  of 300 sample #: 199 reconstruction error: 0.086274\n",
      "Epoch: 0 batch #: 54  of 300 sample #: 199 reconstruction error: 0.056141\n",
      "Epoch: 0 batch #: 55  of 300 sample #: 199 reconstruction error: 0.099701\n",
      "Epoch: 0 batch #: 56  of 300 sample #: 199 reconstruction error: 0.051294\n",
      "Epoch: 0 batch #: 57  of 300 sample #: 199 reconstruction error: 0.050110\n",
      "Epoch: 0 batch #: 58  of 300 sample #: 199 reconstruction error: 0.076828\n",
      "Epoch: 0 batch #: 59  of 300 sample #: 199 reconstruction error: 0.059567\n",
      "Epoch: 0 batch #: 60  of 300 sample #: 199 reconstruction error: 0.088267\n",
      "Epoch: 0 batch #: 61  of 300 sample #: 199 reconstruction error: 0.063120\n",
      "Epoch: 0 batch #: 62  of 300 sample #: 199 reconstruction error: 0.073420\n",
      "Epoch: 0 batch #: 63  of 300 sample #: 199 reconstruction error: 0.049659\n",
      "Epoch: 0 batch #: 64  of 300 sample #: 199 reconstruction error: 0.077169\n",
      "Epoch: 0 batch #: 65  of 300 sample #: 199 reconstruction error: 0.093998\n",
      "Epoch: 0 batch #: 66  of 300 sample #: 199 reconstruction error: 0.063057\n",
      "Epoch: 0 batch #: 67  of 300 sample #: 199 reconstruction error: 0.054922\n",
      "Epoch: 0 batch #: 68  of 300 sample #: 199 reconstruction error: 0.046862\n",
      "Epoch: 0 batch #: 69  of 300 sample #: 199 reconstruction error: 0.084683\n",
      "Epoch: 0 batch #: 70  of 300 sample #: 199 reconstruction error: 0.075555\n",
      "Epoch: 0 batch #: 71  of 300 sample #: 199 reconstruction error: 0.076245\n",
      "Epoch: 0 batch #: 72  of 300 sample #: 199 reconstruction error: 0.059144\n",
      "Epoch: 0 batch #: 73  of 300 sample #: 199 reconstruction error: 0.088614\n",
      "Epoch: 0 batch #: 74  of 300 sample #: 199 reconstruction error: 0.103007\n",
      "Epoch: 0 batch #: 75  of 300 sample #: 199 reconstruction error: 0.058222\n",
      "Epoch: 0 batch #: 76  of 300 sample #: 199 reconstruction error: 0.078796\n",
      "Epoch: 0 batch #: 77  of 300 sample #: 199 reconstruction error: 0.104175\n",
      "Epoch: 0 batch #: 78  of 300 sample #: 199 reconstruction error: 0.107125\n",
      "Epoch: 0 batch #: 79  of 300 sample #: 199 reconstruction error: 0.103895\n",
      "Epoch: 0 batch #: 80  of 300 sample #: 199 reconstruction error: 0.036328\n",
      "Epoch: 0 batch #: 81  of 300 sample #: 199 reconstruction error: 0.065910\n",
      "Epoch: 0 batch #: 82  of 300 sample #: 199 reconstruction error: 0.048003\n",
      "Epoch: 0 batch #: 83  of 300 sample #: 199 reconstruction error: 0.076085\n",
      "Epoch: 0 batch #: 84  of 300 sample #: 199 reconstruction error: 0.085076\n",
      "Epoch: 0 batch #: 85  of 300 sample #: 199 reconstruction error: 0.053771\n",
      "Epoch: 0 batch #: 86  of 300 sample #: 199 reconstruction error: 0.081002\n",
      "Epoch: 0 batch #: 87  of 300 sample #: 199 reconstruction error: 0.062805\n",
      "Epoch: 0 batch #: 88  of 300 sample #: 199 reconstruction error: 0.022089\n",
      "Epoch: 0 batch #: 89  of 300 sample #: 199 reconstruction error: 0.066961\n",
      "Epoch: 0 batch #: 90  of 300 sample #: 199 reconstruction error: 0.069642\n",
      "Epoch: 0 batch #: 91  of 300 sample #: 199 reconstruction error: 0.068594\n",
      "Epoch: 0 batch #: 92  of 300 sample #: 199 reconstruction error: 0.069225\n",
      "Epoch: 0 batch #: 93  of 300 sample #: 199 reconstruction error: 0.103193\n",
      "Epoch: 0 batch #: 94  of 300 sample #: 199 reconstruction error: 0.112504\n",
      "Epoch: 0 batch #: 95  of 300 sample #: 199 reconstruction error: 0.067761\n",
      "Epoch: 0 batch #: 96  of 300 sample #: 199 reconstruction error: 0.041930\n",
      "Epoch: 0 batch #: 97  of 300 sample #: 199 reconstruction error: 0.092595\n",
      "Epoch: 0 batch #: 98  of 300 sample #: 199 reconstruction error: 0.074944\n",
      "Epoch: 0 batch #: 99  of 300 sample #: 199 reconstruction error: 0.060422\n",
      "Epoch: 0 batch #: 100  of 300 sample #: 199 reconstruction error: 0.104836\n",
      "Epoch: 0 batch #: 101  of 300 sample #: 199 reconstruction error: 0.078549\n",
      "Epoch: 0 batch #: 102  of 300 sample #: 199 reconstruction error: 0.063854\n",
      "Epoch: 0 batch #: 103  of 300 sample #: 199 reconstruction error: 0.071187\n",
      "Epoch: 0 batch #: 104  of 300 sample #: 199 reconstruction error: 0.061934\n",
      "Epoch: 0 batch #: 105  of 300 sample #: 199 reconstruction error: 0.060236\n",
      "Epoch: 0 batch #: 106  of 300 sample #: 199 reconstruction error: 0.105817\n",
      "Epoch: 0 batch #: 107  of 300 sample #: 199 reconstruction error: 0.136472\n",
      "Epoch: 0 batch #: 108  of 300 sample #: 199 reconstruction error: 0.055236\n",
      "Epoch: 0 batch #: 109  of 300 sample #: 199 reconstruction error: 0.108389\n",
      "Epoch: 0 batch #: 110  of 300 sample #: 199 reconstruction error: 0.061022\n",
      "Epoch: 0 batch #: 111  of 300 sample #: 199 reconstruction error: 0.090663\n",
      "Epoch: 0 batch #: 112  of 300 sample #: 199 reconstruction error: 0.050905\n",
      "Epoch: 0 batch #: 113  of 300 sample #: 199 reconstruction error: 0.093222\n",
      "Epoch: 0 batch #: 114  of 300 sample #: 199 reconstruction error: 0.067291\n",
      "Epoch: 0 batch #: 115  of 300 sample #: 199 reconstruction error: 0.059621\n",
      "Epoch: 0 batch #: 116  of 300 sample #: 199 reconstruction error: 0.049510\n",
      "Epoch: 0 batch #: 117  of 300 sample #: 199 reconstruction error: 0.046639\n",
      "Epoch: 0 batch #: 118  of 300 sample #: 199 reconstruction error: 0.078407\n",
      "Epoch: 0 batch #: 119  of 300 sample #: 199 reconstruction error: 0.126364\n",
      "Epoch: 0 batch #: 120  of 300 sample #: 199 reconstruction error: 0.083514\n",
      "Epoch: 0 batch #: 121  of 300 sample #: 199 reconstruction error: 0.059169\n",
      "Epoch: 0 batch #: 122  of 300 sample #: 199 reconstruction error: 0.078733\n",
      "Epoch: 0 batch #: 123  of 300 sample #: 199 reconstruction error: 0.065669\n",
      "Epoch: 0 batch #: 124  of 300 sample #: 199 reconstruction error: 0.066121\n",
      "Epoch: 0 batch #: 125  of 300 sample #: 199 reconstruction error: 0.043991\n",
      "Epoch: 0 batch #: 126  of 300 sample #: 199 reconstruction error: 0.095026\n",
      "Epoch: 0 batch #: 127  of 300 sample #: 199 reconstruction error: 0.098458\n",
      "Epoch: 0 batch #: 128  of 300 sample #: 199 reconstruction error: 0.061419\n",
      "Epoch: 0 batch #: 129  of 300 sample #: 199 reconstruction error: 0.056817\n",
      "Epoch: 0 batch #: 130  of 300 sample #: 199 reconstruction error: 0.086744\n",
      "Epoch: 0 batch #: 131  of 300 sample #: 199 reconstruction error: 0.076137\n",
      "Epoch: 0 batch #: 132  of 300 sample #: 199 reconstruction error: 0.045300\n",
      "Epoch: 0 batch #: 133  of 300 sample #: 199 reconstruction error: 0.051748\n",
      "Epoch: 0 batch #: 134  of 300 sample #: 199 reconstruction error: 0.102635\n",
      "Epoch: 0 batch #: 135  of 300 sample #: 199 reconstruction error: 0.093668\n",
      "Epoch: 0 batch #: 136  of 300 sample #: 199 reconstruction error: 0.114689\n",
      "Epoch: 0 batch #: 137  of 300 sample #: 199 reconstruction error: 0.071307\n",
      "Epoch: 0 batch #: 138  of 300 sample #: 199 reconstruction error: 0.093776\n",
      "Epoch: 0 batch #: 139  of 300 sample #: 199 reconstruction error: 0.101356\n",
      "Epoch: 0 batch #: 140  of 300 sample #: 199 reconstruction error: 0.086055\n",
      "Epoch: 0 batch #: 141  of 300 sample #: 199 reconstruction error: 0.102328\n",
      "Epoch: 0 batch #: 142  of 300 sample #: 199 reconstruction error: 0.062191\n",
      "Epoch: 0 batch #: 143  of 300 sample #: 199 reconstruction error: 0.048148\n",
      "Epoch: 0 batch #: 144  of 300 sample #: 199 reconstruction error: 0.057429\n",
      "Epoch: 0 batch #: 145  of 300 sample #: 199 reconstruction error: 0.102290\n",
      "Epoch: 0 batch #: 146  of 300 sample #: 199 reconstruction error: 0.106866\n",
      "Epoch: 0 batch #: 147  of 300 sample #: 199 reconstruction error: 0.076323\n",
      "Epoch: 0 batch #: 148  of 300 sample #: 199 reconstruction error: 0.079461\n",
      "Epoch: 0 batch #: 149  of 300 sample #: 199 reconstruction error: 0.045513\n",
      "Epoch: 0 batch #: 150  of 300 sample #: 199 reconstruction error: 0.046421\n",
      "Epoch: 0 batch #: 151  of 300 sample #: 199 reconstruction error: 0.101414\n",
      "Epoch: 0 batch #: 152  of 300 sample #: 199 reconstruction error: 0.100491\n",
      "Epoch: 0 batch #: 153  of 300 sample #: 199 reconstruction error: 0.060237\n",
      "Epoch: 0 batch #: 154  of 300 sample #: 199 reconstruction error: 0.078944\n",
      "Epoch: 0 batch #: 155  of 300 sample #: 199 reconstruction error: 0.068895\n",
      "Epoch: 0 batch #: 156  of 300 sample #: 199 reconstruction error: 0.069529\n",
      "Epoch: 0 batch #: 157  of 300 sample #: 199 reconstruction error: 0.087442\n",
      "Epoch: 0 batch #: 158  of 300 sample #: 199 reconstruction error: 0.067168\n",
      "Epoch: 0 batch #: 159  of 300 sample #: 199 reconstruction error: 0.075658\n",
      "Epoch: 0 batch #: 160  of 300 sample #: 199 reconstruction error: 0.068167\n",
      "Epoch: 0 batch #: 161  of 300 sample #: 199 reconstruction error: 0.089248\n",
      "Epoch: 0 batch #: 162  of 300 sample #: 199 reconstruction error: 0.111423\n",
      "Epoch: 0 batch #: 163  of 300 sample #: 199 reconstruction error: 0.046325\n",
      "Epoch: 0 batch #: 164  of 300 sample #: 199 reconstruction error: 0.060648\n",
      "Epoch: 0 batch #: 165  of 300 sample #: 199 reconstruction error: 0.082646\n",
      "Epoch: 0 batch #: 166  of 300 sample #: 199 reconstruction error: 0.054183\n",
      "Epoch: 0 batch #: 167  of 300 sample #: 199 reconstruction error: 0.093557\n",
      "Epoch: 0 batch #: 168  of 300 sample #: 199 reconstruction error: 0.061601\n",
      "Epoch: 0 batch #: 169  of 300 sample #: 199 reconstruction error: 0.039092\n",
      "Epoch: 0 batch #: 170  of 300 sample #: 199 reconstruction error: 0.062850\n",
      "Epoch: 0 batch #: 171  of 300 sample #: 199 reconstruction error: 0.034862\n",
      "Epoch: 0 batch #: 172  of 300 sample #: 199 reconstruction error: 0.046315\n",
      "Epoch: 0 batch #: 173  of 300 sample #: 199 reconstruction error: 0.080682\n",
      "Epoch: 0 batch #: 174  of 300 sample #: 199 reconstruction error: 0.114416\n",
      "Epoch: 0 batch #: 175  of 300 sample #: 199 reconstruction error: 0.075189\n",
      "Epoch: 0 batch #: 176  of 300 sample #: 199 reconstruction error: 0.042820\n",
      "Epoch: 0 batch #: 177  of 300 sample #: 199 reconstruction error: 0.031975\n",
      "Epoch: 0 batch #: 178  of 300 sample #: 199 reconstruction error: 0.115614\n",
      "Epoch: 0 batch #: 179  of 300 sample #: 199 reconstruction error: 0.084193\n",
      "Epoch: 0 batch #: 180  of 300 sample #: 199 reconstruction error: 0.085312\n",
      "Epoch: 0 batch #: 181  of 300 sample #: 199 reconstruction error: 0.089640\n",
      "Epoch: 0 batch #: 182  of 300 sample #: 199 reconstruction error: 0.071939\n",
      "Epoch: 0 batch #: 183  of 300 sample #: 199 reconstruction error: 0.119033\n",
      "Epoch: 0 batch #: 184  of 300 sample #: 199 reconstruction error: 0.066584\n",
      "Epoch: 0 batch #: 185  of 300 sample #: 199 reconstruction error: 0.079646\n",
      "Epoch: 0 batch #: 186  of 300 sample #: 199 reconstruction error: 0.103619\n",
      "Epoch: 0 batch #: 187  of 300 sample #: 199 reconstruction error: 0.060534\n",
      "Epoch: 0 batch #: 188  of 300 sample #: 199 reconstruction error: 0.117688\n",
      "Epoch: 0 batch #: 189  of 300 sample #: 199 reconstruction error: 0.069683\n",
      "Epoch: 0 batch #: 190  of 300 sample #: 199 reconstruction error: 0.065734\n",
      "Epoch: 0 batch #: 191  of 300 sample #: 199 reconstruction error: 0.104713\n",
      "Epoch: 0 batch #: 192  of 300 sample #: 199 reconstruction error: 0.113381\n",
      "Epoch: 0 batch #: 193  of 300 sample #: 199 reconstruction error: 0.105260\n",
      "Epoch: 0 batch #: 194  of 300 sample #: 199 reconstruction error: 0.085076\n",
      "Epoch: 0 batch #: 195  of 300 sample #: 199 reconstruction error: 0.050405\n",
      "Epoch: 0 batch #: 196  of 300 sample #: 199 reconstruction error: 0.043712\n",
      "Epoch: 0 batch #: 197  of 300 sample #: 199 reconstruction error: 0.049683\n",
      "Epoch: 0 batch #: 198  of 300 sample #: 199 reconstruction error: 0.082971\n",
      "Epoch: 0 batch #: 199  of 300 sample #: 199 reconstruction error: 0.070515\n",
      "Epoch: 0 batch #: 200  of 300 sample #: 199 reconstruction error: 0.103321\n",
      "Epoch: 0 batch #: 201  of 300 sample #: 199 reconstruction error: 0.093263\n",
      "Epoch: 0 batch #: 202  of 300 sample #: 199 reconstruction error: 0.028178\n",
      "Epoch: 0 batch #: 203  of 300 sample #: 199 reconstruction error: 0.086470\n",
      "Epoch: 0 batch #: 204  of 300 sample #: 199 reconstruction error: 0.057617\n",
      "Epoch: 0 batch #: 205  of 300 sample #: 199 reconstruction error: 0.022321\n",
      "Epoch: 0 batch #: 206  of 300 sample #: 199 reconstruction error: 0.075842\n",
      "Epoch: 0 batch #: 207  of 300 sample #: 199 reconstruction error: 0.090196\n",
      "Epoch: 0 batch #: 208  of 300 sample #: 199 reconstruction error: 0.065244\n",
      "Epoch: 0 batch #: 209  of 300 sample #: 199 reconstruction error: 0.025624\n",
      "Epoch: 0 batch #: 210  of 300 sample #: 199 reconstruction error: 0.106260\n",
      "Epoch: 0 batch #: 211  of 300 sample #: 199 reconstruction error: 0.104519\n",
      "Epoch: 0 batch #: 212  of 300 sample #: 199 reconstruction error: 0.089949\n",
      "Epoch: 0 batch #: 213  of 300 sample #: 199 reconstruction error: 0.100153\n",
      "Epoch: 0 batch #: 214  of 300 sample #: 199 reconstruction error: 0.099108\n",
      "Epoch: 0 batch #: 215  of 300 sample #: 199 reconstruction error: 0.030528\n",
      "Epoch: 0 batch #: 216  of 300 sample #: 199 reconstruction error: 0.098316\n",
      "Epoch: 0 batch #: 217  of 300 sample #: 199 reconstruction error: 0.081576\n",
      "Epoch: 0 batch #: 218  of 300 sample #: 199 reconstruction error: 0.058518\n",
      "Epoch: 0 batch #: 219  of 300 sample #: 199 reconstruction error: 0.075133\n",
      "Epoch: 0 batch #: 220  of 300 sample #: 199 reconstruction error: 0.064693\n",
      "Epoch: 0 batch #: 221  of 300 sample #: 199 reconstruction error: 0.092580\n",
      "Epoch: 0 batch #: 222  of 300 sample #: 199 reconstruction error: 0.081724\n",
      "Epoch: 0 batch #: 223  of 300 sample #: 199 reconstruction error: 0.086403\n",
      "Epoch: 0 batch #: 224  of 300 sample #: 199 reconstruction error: 0.052481\n",
      "Epoch: 0 batch #: 225  of 300 sample #: 199 reconstruction error: 0.065551\n",
      "Epoch: 0 batch #: 226  of 300 sample #: 199 reconstruction error: 0.126742\n",
      "Epoch: 0 batch #: 227  of 300 sample #: 199 reconstruction error: 0.073585\n",
      "Epoch: 0 batch #: 228  of 300 sample #: 199 reconstruction error: 0.070222\n",
      "Epoch: 0 batch #: 229  of 300 sample #: 199 reconstruction error: 0.070473\n",
      "Epoch: 0 batch #: 230  of 300 sample #: 199 reconstruction error: 0.045993\n",
      "Epoch: 0 batch #: 231  of 300 sample #: 199 reconstruction error: 0.028300\n",
      "Epoch: 0 batch #: 232  of 300 sample #: 199 reconstruction error: 0.091077\n",
      "Epoch: 0 batch #: 233  of 300 sample #: 199 reconstruction error: 0.070525\n",
      "Epoch: 0 batch #: 234  of 300 sample #: 199 reconstruction error: 0.067388\n",
      "Epoch: 0 batch #: 235  of 300 sample #: 199 reconstruction error: 0.066023\n",
      "Epoch: 0 batch #: 236  of 300 sample #: 199 reconstruction error: 0.094704\n",
      "Epoch: 0 batch #: 237  of 300 sample #: 199 reconstruction error: 0.076173\n",
      "Epoch: 0 batch #: 238  of 300 sample #: 199 reconstruction error: 0.107763\n",
      "Epoch: 0 batch #: 239  of 300 sample #: 199 reconstruction error: 0.034798\n",
      "Epoch: 0 batch #: 240  of 300 sample #: 199 reconstruction error: 0.100777\n",
      "Epoch: 0 batch #: 241  of 300 sample #: 199 reconstruction error: 0.085437\n",
      "Epoch: 0 batch #: 242  of 300 sample #: 199 reconstruction error: 0.064057\n",
      "Epoch: 0 batch #: 243  of 300 sample #: 199 reconstruction error: 0.071320\n",
      "Epoch: 0 batch #: 244  of 300 sample #: 199 reconstruction error: 0.086901\n",
      "Epoch: 0 batch #: 245  of 300 sample #: 199 reconstruction error: 0.067210\n",
      "Epoch: 0 batch #: 246  of 300 sample #: 199 reconstruction error: 0.079231\n",
      "Epoch: 0 batch #: 247  of 300 sample #: 199 reconstruction error: 0.048431\n",
      "Epoch: 0 batch #: 248  of 300 sample #: 199 reconstruction error: 0.069528\n",
      "Epoch: 0 batch #: 249  of 300 sample #: 199 reconstruction error: 0.041189\n",
      "Epoch: 0 batch #: 250  of 300 sample #: 199 reconstruction error: 0.094884\n",
      "Epoch: 0 batch #: 251  of 300 sample #: 199 reconstruction error: 0.044950\n",
      "Epoch: 0 batch #: 252  of 300 sample #: 199 reconstruction error: 0.070467\n",
      "Epoch: 0 batch #: 253  of 300 sample #: 199 reconstruction error: 0.055575\n",
      "Epoch: 0 batch #: 254  of 300 sample #: 199 reconstruction error: 0.030413\n",
      "Epoch: 0 batch #: 255  of 300 sample #: 199 reconstruction error: 0.059634\n",
      "Epoch: 0 batch #: 256  of 300 sample #: 199 reconstruction error: 0.087059\n",
      "Epoch: 0 batch #: 257  of 300 sample #: 199 reconstruction error: 0.091409\n",
      "Epoch: 0 batch #: 258  of 300 sample #: 199 reconstruction error: 0.081266\n",
      "Epoch: 0 batch #: 259  of 300 sample #: 199 reconstruction error: 0.069696\n",
      "Epoch: 0 batch #: 260  of 300 sample #: 199 reconstruction error: 0.097448\n",
      "Epoch: 0 batch #: 261  of 300 sample #: 199 reconstruction error: 0.036898\n",
      "Epoch: 0 batch #: 262  of 300 sample #: 199 reconstruction error: 0.051997\n",
      "Epoch: 0 batch #: 263  of 300 sample #: 199 reconstruction error: 0.085990\n",
      "Epoch: 0 batch #: 264  of 300 sample #: 199 reconstruction error: 0.074935\n",
      "Epoch: 0 batch #: 265  of 300 sample #: 199 reconstruction error: 0.051486\n",
      "Epoch: 0 batch #: 266  of 300 sample #: 199 reconstruction error: 0.029271\n",
      "Epoch: 0 batch #: 267  of 300 sample #: 199 reconstruction error: 0.064980\n",
      "Epoch: 0 batch #: 268  of 300 sample #: 199 reconstruction error: 0.026075\n",
      "Epoch: 0 batch #: 269  of 300 sample #: 199 reconstruction error: 0.093210\n",
      "Epoch: 0 batch #: 270  of 300 sample #: 199 reconstruction error: 0.067776\n",
      "Epoch: 0 batch #: 271  of 300 sample #: 199 reconstruction error: 0.062460\n",
      "Epoch: 0 batch #: 272  of 300 sample #: 199 reconstruction error: 0.052792\n",
      "Epoch: 0 batch #: 273  of 300 sample #: 199 reconstruction error: 0.044508\n",
      "Epoch: 0 batch #: 274  of 300 sample #: 199 reconstruction error: 0.060129\n",
      "Epoch: 0 batch #: 275  of 300 sample #: 199 reconstruction error: 0.099356\n",
      "Epoch: 0 batch #: 276  of 300 sample #: 199 reconstruction error: 0.071300\n",
      "Epoch: 0 batch #: 277  of 300 sample #: 199 reconstruction error: 0.078801\n",
      "Epoch: 0 batch #: 278  of 300 sample #: 199 reconstruction error: 0.053167\n",
      "Epoch: 0 batch #: 279  of 300 sample #: 199 reconstruction error: 0.055112\n",
      "Epoch: 0 batch #: 280  of 300 sample #: 199 reconstruction error: 0.083506\n",
      "Epoch: 0 batch #: 281  of 300 sample #: 199 reconstruction error: 0.069727\n",
      "Epoch: 0 batch #: 282  of 300 sample #: 199 reconstruction error: 0.089159\n",
      "Epoch: 0 batch #: 283  of 300 sample #: 199 reconstruction error: 0.051093\n",
      "Epoch: 0 batch #: 284  of 300 sample #: 199 reconstruction error: 0.050117\n",
      "Epoch: 0 batch #: 285  of 300 sample #: 199 reconstruction error: 0.068552\n",
      "Epoch: 0 batch #: 286  of 300 sample #: 199 reconstruction error: 0.108194\n",
      "Epoch: 0 batch #: 287  of 300 sample #: 199 reconstruction error: 0.079843\n",
      "Epoch: 0 batch #: 288  of 300 sample #: 199 reconstruction error: 0.023045\n",
      "Epoch: 0 batch #: 289  of 300 sample #: 199 reconstruction error: 0.099738\n",
      "Epoch: 0 batch #: 290  of 300 sample #: 199 reconstruction error: 0.095673\n",
      "Epoch: 0 batch #: 291  of 300 sample #: 199 reconstruction error: 0.105422\n",
      "Epoch: 0 batch #: 292  of 300 sample #: 199 reconstruction error: 0.063279\n",
      "Epoch: 0 batch #: 293  of 300 sample #: 199 reconstruction error: 0.053504\n",
      "Epoch: 0 batch #: 294  of 300 sample #: 199 reconstruction error: 0.094931\n",
      "Epoch: 0 batch #: 295  of 300 sample #: 199 reconstruction error: 0.070565\n",
      "Epoch: 0 batch #: 296  of 300 sample #: 199 reconstruction error: 0.030140\n",
      "Epoch: 0 batch #: 297  of 300 sample #: 199 reconstruction error: 0.102406\n",
      "Epoch: 0 batch #: 298  of 300 sample #: 199 reconstruction error: 0.046005\n",
      "Epoch: 0 batch #: 299  of 300 sample #: 199 reconstruction error: 0.045138\n",
      "Epoch: 0 batch #: 300  of 300 sample #: 199 reconstruction error: 0.081214\n"
     ]
    }
   ],
   "source": [
    "#Parameters\n",
    "alpha = 0.01\n",
    "epochs = 1\n",
    "batchsize = 200\n",
    "weights = []\n",
    "errors = []\n",
    "batch_number = 0\n",
    "K = 1\n",
    "\n",
    "#creating datasets\n",
    "train_ds = \\\n",
    "    tf.data.Dataset.from_tensor_slices((trX, trY)).batch(batchsize)\n",
    "\n",
    "for epoch in range(epochs):\n",
    "    for batch_x, batch_y in train_ds:\n",
    "        batch_number += 1\n",
    "        for i_sample in range(batchsize):           \n",
    "            for k in range(K):\n",
    "                v0_state = batch_x[i_sample]\n",
    "                h0_state = hidden_layer(v0_state, W, hb)\n",
    "                v1_state = reconstructed_output(h0_state, W, vb)\n",
    "                h1_state = hidden_layer(v1_state, W, hb)\n",
    "\n",
    "                delta_W = tf.matmul(tf.transpose([v0_state]), h0_state) - tf.matmul(tf.transpose([v1_state]), h1_state)\n",
    "                W = W + alpha * delta_W\n",
    "\n",
    "                vb = vb + alpha * tf.reduce_mean(v0_state - v1_state, 0)\n",
    "                hb = hb + alpha * tf.reduce_mean(h0_state - h1_state, 0) \n",
    "\n",
    "                v0_state = v1_state\n",
    "\n",
    "            if i_sample == batchsize-1:\n",
    "                err = error(batch_x[i_sample], v1_state)\n",
    "                errors.append(err)\n",
    "                weights.append(W)\n",
    "                print ( 'Epoch: %d' % epoch, \n",
    "                       \"batch #: %i \" % batch_number, \"of %i\" % int(60e3/batchsize), \n",
    "                       \"sample #: %i\" % i_sample,\n",
    "                       'reconstruction error: %f' % err)\n",
    "\n"
   ]
  },
  {
   "cell_type": "markdown",
   "metadata": {},
   "source": [
    "Let's take a look at the errors at the end of each batch:\n"
   ]
  },
  {
   "cell_type": "code",
   "execution_count": 20,
   "metadata": {},
   "outputs": [
    {
     "data": {
      "image/png": "[encoded data removed]",
      "text/plain": [
       "<Figure size 432x288 with 1 Axes>"
      ]
     },
     "metadata": {
      "needs_background": "light"
     },
     "output_type": "display_data"
    }
   ],
   "source": [
    "plt.plot(errors)\n",
    "plt.xlabel(\"Batch Number\")\n",
    "plt.ylabel(\"Error\")\n",
    "plt.show()"
   ]
  },
  {
   "cell_type": "markdown",
   "metadata": {},
   "source": [
    "What is the final weight matrix $W$ after training?\n"
   ]
  },
  {
   "cell_type": "code",
   "execution_count": 21,
   "metadata": {},
   "outputs": [
    {
     "name": "stdout",
     "output_type": "stream",
     "text": [
      "[[-0.40999988 -0.27       -0.31999996 ... -0.33999994 -0.32999995\n",
      "  -0.27      ]\n",
      " [-0.3999999  -0.21000002 -0.30999997 ... -0.32999995 -0.35999992\n",
      "  -0.27      ]\n",
      " [-0.3999999  -0.28       -0.26000002 ... -0.33999994 -0.28\n",
      "  -0.32999995]\n",
      " ...\n",
      " [-0.3999999  -0.25000003 -0.24000004 ... -0.28       -0.29999998\n",
      "  -0.34999993]\n",
      " [-0.41999987 -0.29       -0.29999998 ... -0.26000002 -0.31999996\n",
      "  -0.26000002]\n",
      " [-0.41999987 -0.29       -0.26000002 ... -0.36999992 -0.29999998\n",
      "  -0.26000002]]\n"
     ]
    }
   ],
   "source": [
    "print(W.numpy()) # a weight matrix of shape (50,784)"
   ]
  },
  {
   "cell_type": "markdown",
   "metadata": {},
   "source": [
    "<a id=\"ref5\"></a>\n",
    "\n",
    "<h3>Learned features</h3> \n"
   ]
  },
  {
   "cell_type": "markdown",
   "metadata": {},
   "source": [
    "We can take each hidden unit and visualize the connections between that hidden unit and each element in the input vector. In our case, we have 50 hidden units. Lets visualize those.\n"
   ]
  },
  {
   "cell_type": "markdown",
   "metadata": {},
   "source": [
    "Let's plot the current weights: <b>tile_raster_images</b> helps in generating an easy to grasp image from a set of samples or weights. It transforms the <b>uw</b> (with one flattened image per row of size 784), into an array (of size $28\\times28$) in which images are reshaped and laid out like tiles on a floor.\n"
   ]
  },
  {
   "cell_type": "code",
   "execution_count": 22,
   "metadata": {},
   "outputs": [
    {
     "data": {
      "image/png": "[encoded data removed]",
      "text/plain": [
       "<Figure size 1296x1296 with 1 Axes>"
      ]
     },
     "metadata": {
      "needs_background": "light"
     },
     "output_type": "display_data"
    }
   ],
   "source": [
    "tile_raster_images(X=W.numpy().T, img_shape=(28, 28), tile_shape=(5, 10), tile_spacing=(1, 1))\n",
    "import matplotlib.pyplot as plt\n",
    "from PIL import Image\n",
    "%matplotlib inline\n",
    "image = Image.fromarray(tile_raster_images(X=W.numpy().T, img_shape=(28, 28) ,tile_shape=(5, 10), tile_spacing=(1, 1)))\n",
    "### Plot image\n",
    "plt.rcParams['figure.figsize'] = (18.0, 18.0)\n",
    "imgplot = plt.imshow(image)\n",
    "imgplot.set_cmap('gray')  "
   ]
  },
  {
   "cell_type": "markdown",
   "metadata": {},
   "source": [
    "Each tile in the above visualization corresponds to a vector of connections between a hidden unit and visible layer's units.\n"
   ]
  },
  {
   "cell_type": "markdown",
   "metadata": {},
   "source": [
    "Let's look at one of the learned weights corresponding to one of hidden units for example. In this particular square, the gray color represents weight = 0, and the whiter it is, the more positive the weights are (closer to 1). Conversely, the darker pixels are, the more negative the weights. The positive pixels will increase the probability of activation in hidden units (after multiplying by input/visible pixels), and negative pixels will decrease the probability of a unit hidden to be 1 (activated). So, why is this important?  So we can see that this specific square (hidden unit) can detect a feature (e.g. a \"/\" shape) and if it exists in the input.\n"
   ]
  },
  {
   "cell_type": "code",
   "execution_count": 23,
   "metadata": {},
   "outputs": [
    {
     "data": {
      "image/png": "[encoded data removed]",
      "text/plain": [
       "<Figure size 288x288 with 1 Axes>"
      ]
     },
     "metadata": {
      "needs_background": "light"
     },
     "output_type": "display_data"
    }
   ],
   "source": [
    "from PIL import Image\n",
    "image = Image.fromarray(tile_raster_images(X =W.numpy().T[10:11], img_shape=(28, 28),tile_shape=(1, 1), tile_spacing=(1, 1)))\n",
    "### Plot image\n",
    "plt.rcParams['figure.figsize'] = (4.0, 4.0)\n",
    "imgplot = plt.imshow(image)\n",
    "imgplot.set_cmap('gray')  "
   ]
  },
  {
   "cell_type": "markdown",
   "metadata": {},
   "source": [
    "Let's look at the reconstruction of an image now. Imagine that we have a destructed image of figure 3. Lets see if our trained network can fix it:\n",
    "\n",
    "First we plot the image:\n"
   ]
  },
  {
   "cell_type": "code",
   "execution_count": 24,
   "metadata": {},
   "outputs": [
    {
     "name": "stdout",
     "output_type": "stream",
     "text": [
      "--2022-05-13 05:07:05--  https://ibm.box.com/shared/static/vvm1b63uvuxq88vbw9znpwu5ol380mco.jpg\n",
      "Resolving ibm.box.com (ibm.box.com)... 107.152.27.197\n",
      "Connecting to ibm.box.com (ibm.box.com)|107.152.27.197|:443... connected.\n",
      "HTTP request sent, awaiting response... 301 Moved Permanently\n",
      "Location: /public/static/vvm1b63uvuxq88vbw9znpwu5ol380mco.jpg [following]\n",
      "--2022-05-13 05:07:05--  https://ibm.box.com/public/static/vvm1b63uvuxq88vbw9znpwu5ol380mco.jpg\n",
      "Reusing existing connection to ibm.box.com:443.\n",
      "HTTP request sent, awaiting response... 301 Moved Permanently\n",
      "Location: https://ibm.ent.box.com/public/static/vvm1b63uvuxq88vbw9znpwu5ol380mco.jpg [following]\n",
      "--2022-05-13 05:07:06--  https://ibm.ent.box.com/public/static/vvm1b63uvuxq88vbw9znpwu5ol380mco.jpg\n",
      "Resolving ibm.ent.box.com (ibm.ent.box.com)... 107.152.27.201\n",
      "Connecting to ibm.ent.box.com (ibm.ent.box.com)|107.152.27.201|:443... connected.\n",
      "HTTP request sent, awaiting response... 302 Found\n",
      "Location: https://dl2.boxcloud.com/d/1/b1!jG-2RsyTIgdoUcTguAUVUcBdyug7Wx6ortSJAVtYIDD6Y8lRzTa0y9L7v5Mpn4qIUZ-lw2O7z8ylqDZ-8R90TpbXCBDefMZzC92BA7yTTn1T-z-5PMFWO29c-TV2WdmagFaW5ZeHZJ6WTsgj0UoVWthww4Coy-DrRFfx6Bo-L-glxuc1isc3F9ZQtEyJMXVw3GO2lsdJ2hPJJ-IWJY_KTarTq0RP2KJesMJoR7fZUCdKtzNU_A4TnGzXeD8ngK0VLFyUMNbv9UQaxSF2jOQp51QciBIic3iRW2u9cOZjnzZHerYz19lc_HPYg4lq4Bn-ghJXUgeV0cfSsjyRUVklPXZATbjUmrKCP1Xq1wafI8svvyOsJHqO_YyzL4W4ZbZR5kAammTvOBGnbvcvjiaKIkCXvI6VSz9V8XDW-Tt4i9v84xOjIHQ_brUEmKZnE-Zkx-e0BdSVoxU2S9UguRyv3hY6C-QwM0L6hsv1DL2yZEHRlfG9hLiQbjiXA2D6vth_HGQamy03_LVVVAD_8EXE_VH_IeVBozVSp8TcjqhIE0sVwjk5sUPyXbTYtUt-aRO1SvR_pHK4ZbVFcWCncl1uWQmrGAo8kX3_CoFmISoT-Gw4WX05PZP1X2O6fHCZupLJJ-gJDmgZR9Bs2V7AmzCjKUJ8dvajtwy8-QBuxIEFWHMsoe-7Wy5bDDmmr212R0LpKD_Ki-A3_dl5OAwqXhyFq7xLbR7tmurCgG03f-5P3AaYrGRdVTDIEyfJm43VRInQW43dNTtGQcLLtyR1bUtM6vTp4feGn72PGsL9sSknNAaD3HtXWErHGLu02QSxlnJZIE1cKBUVd_cYbYjrjJuGuPydXs-YN3U-GMQwUmGGjaR6pmXcaS0rRQTP1coWLBp_-OwglJOhW0HiO1h6PlpkxOwf7rLlnMUOCbh9Us-WLZcByuMmWct5vDCHSlxD8qN6amqnJa_TbfTueUdhCBZYOXRM1oHwzpiD_96Ui66okbb1JwVVeU7p6BU0OntHeM1Z0_AKhT1d9TVe1MZM139ezfJkTLs14ZmsHe_7PjWzepIIGvRrCS_h36PEoDn4zCeqHJcMp-9ewvyZcvEestGcHaOULXhp7oDO3VHCRZOfl-y-pcArFwTASetM0tpS8KuFsUltxXPY71N7fz5FrosWJz-bh3GkUrF4DLzbk8KAY8qxn_KlEoA6P6iQuscC2R1xfgpyvW32kK8ktRHd9HKbC33mzGGs3Xl0yOHs3PydlH3DfqKtc-XJFIr68X-18FfVyV1V53QLaapk8Lt7PuITSQvm9SDoPqsJerDDZ_fI01UoBnEqM4AaXhIYCxu-AF0HdHydSjIqPVHrvmmXQ1kS-U4-xKx31qYrmXaBSnp1_Yvn6LZAO9oI-TTxCTr563O6TvxxqF-GDotoKo5sPtrrEZVtqlTXf92u1qsmDPh7itQiDQcj6yJ2kE6C6udR6Vk1/download [following]\n",
      "--2022-05-13 05:07:07--  https://dl2.boxcloud.com/d/1/b1!jG-2RsyTIgdoUcTguAUVUcBdyug7Wx6ortSJAVtYIDD6Y8lRzTa0y9L7v5Mpn4qIUZ-lw2O7z8ylqDZ-8R90TpbXCBDefMZzC92BA7yTTn1T-z-5PMFWO29c-TV2WdmagFaW5ZeHZJ6WTsgj0UoVWthww4Coy-DrRFfx6Bo-L-glxuc1isc3F9ZQtEyJMXVw3GO2lsdJ2hPJJ-IWJY_KTarTq0RP2KJesMJoR7fZUCdKtzNU_A4TnGzXeD8ngK0VLFyUMNbv9UQaxSF2jOQp51QciBIic3iRW2u9cOZjnzZHerYz19lc_HPYg4lq4Bn-ghJXUgeV0cfSsjyRUVklPXZATbjUmrKCP1Xq1wafI8svvyOsJHqO_YyzL4W4ZbZR5kAammTvOBGnbvcvjiaKIkCXvI6VSz9V8XDW-Tt4i9v84xOjIHQ_brUEmKZnE-Zkx-e0BdSVoxU2S9UguRyv3hY6C-QwM0L6hsv1DL2yZEHRlfG9hLiQbjiXA2D6vth_HGQamy03_LVVVAD_8EXE_VH_IeVBozVSp8TcjqhIE0sVwjk5sUPyXbTYtUt-aRO1SvR_pHK4ZbVFcWCncl1uWQmrGAo8kX3_CoFmISoT-Gw4WX05PZP1X2O6fHCZupLJJ-gJDmgZR9Bs2V7AmzCjKUJ8dvajtwy8-QBuxIEFWHMsoe-7Wy5bDDmmr212R0LpKD_Ki-A3_dl5OAwqXhyFq7xLbR7tmurCgG03f-5P3AaYrGRdVTDIEyfJm43VRInQW43dNTtGQcLLtyR1bUtM6vTp4feGn72PGsL9sSknNAaD3HtXWErHGLu02QSxlnJZIE1cKBUVd_cYbYjrjJuGuPydXs-YN3U-GMQwUmGGjaR6pmXcaS0rRQTP1coWLBp_-OwglJOhW0HiO1h6PlpkxOwf7rLlnMUOCbh9Us-WLZcByuMmWct5vDCHSlxD8qN6amqnJa_TbfTueUdhCBZYOXRM1oHwzpiD_96Ui66okbb1JwVVeU7p6BU0OntHeM1Z0_AKhT1d9TVe1MZM139ezfJkTLs14ZmsHe_7PjWzepIIGvRrCS_h36PEoDn4zCeqHJcMp-9ewvyZcvEestGcHaOULXhp7oDO3VHCRZOfl-y-pcArFwTASetM0tpS8KuFsUltxXPY71N7fz5FrosWJz-bh3GkUrF4DLzbk8KAY8qxn_KlEoA6P6iQuscC2R1xfgpyvW32kK8ktRHd9HKbC33mzGGs3Xl0yOHs3PydlH3DfqKtc-XJFIr68X-18FfVyV1V53QLaapk8Lt7PuITSQvm9SDoPqsJerDDZ_fI01UoBnEqM4AaXhIYCxu-AF0HdHydSjIqPVHrvmmXQ1kS-U4-xKx31qYrmXaBSnp1_Yvn6LZAO9oI-TTxCTr563O6TvxxqF-GDotoKo5sPtrrEZVtqlTXf92u1qsmDPh7itQiDQcj6yJ2kE6C6udR6Vk1/download\n",
      "Resolving dl2.boxcloud.com (dl2.boxcloud.com)... 74.112.186.128\n",
      "Connecting to dl2.boxcloud.com (dl2.boxcloud.com)|74.112.186.128|:443... connected.\n",
      "HTTP request sent, awaiting response... 200 OK\n",
      "Length: 24383 (24K) [image/jpeg]\n",
      "Saving to: ‘destructed3.jpg’\n",
      "\n",
      "destructed3.jpg     100%[===================>]  23.81K  --.-KB/s    in 0.01s   \n",
      "\n",
      "2022-05-13 05:07:07 (2.27 MB/s) - ‘destructed3.jpg’ saved [24383/24383]\n",
      "\n"
     ]
    },
    {
     "data": {
      "image/png": "[encoded data removed]",
      "text/plain": [
       "<PIL.JpegImagePlugin.JpegImageFile image mode=RGB size=181x181 at 0x7FC76D3F9D50>"
      ]
     },
     "execution_count": 24,
     "metadata": {},
     "output_type": "execute_result"
    }
   ],
   "source": [
    "!wget -O destructed3.jpg  https://ibm.box.com/shared/static/vvm1b63uvuxq88vbw9znpwu5ol380mco.jpg\n",
    "img = Image.open('destructed3.jpg')\n",
    "img"
   ]
  },
  {
   "cell_type": "markdown",
   "metadata": {},
   "source": [
    "Now let's pass this image through the neural net:\n"
   ]
  },
  {
   "cell_type": "code",
   "execution_count": 25,
   "metadata": {},
   "outputs": [],
   "source": [
    "# convert the image to a 1d numpy array\n",
    "sample_case = np.array(img.convert('I').resize((28,28))).ravel().reshape((1, -1))/255.0\n",
    "\n",
    "sample_case = tf.cast(sample_case, dtype=tf.float32)"
   ]
  },
  {
   "cell_type": "markdown",
   "metadata": {},
   "source": [
    "Feed the sample case into the network and reconstruct the output:\n"
   ]
  },
  {
   "cell_type": "code",
   "execution_count": 26,
   "metadata": {},
   "outputs": [
    {
     "name": "stdout",
     "output_type": "stream",
     "text": [
      "Probability nodes in hidden layer: tf.Tensor(\n",
      "[[9.99620080e-01 4.66525555e-04 5.93215395e-16 1.98284731e-08\n",
      "  3.26939471e-07 4.48817827e-09 5.26175500e-05 9.75692305e-11\n",
      "  1.00000000e+00 6.61030412e-03 1.94657277e-05 1.00341916e-01\n",
      "  8.22881973e-16 9.99978423e-01 9.99998927e-01 7.74434984e-01\n",
      "  9.99684751e-01 3.85480046e-01 3.47519291e-10 1.00000000e+00\n",
      "  3.71936560e-02 5.16091792e-09 2.55291184e-08 2.25711167e-02\n",
      "  9.99999821e-01 9.28212285e-01 7.31796026e-04 2.97704339e-03\n",
      "  1.00000000e+00 9.89877939e-01 9.00221944e-01 5.43153683e-16\n",
      "  1.02922911e-12 1.00000000e+00 3.71106852e-14 1.00000000e+00\n",
      "  4.77033900e-05 1.61213193e-05 3.24356847e-07 1.03821264e-07\n",
      "  1.61875773e-11 6.49188370e-10 1.48672781e-08 3.08786958e-01\n",
      "  1.56286715e-05 4.15663814e-09 6.93985885e-06 4.68915701e-03\n",
      "  9.98626351e-01 4.91202995e-03]], shape=(1, 50), dtype=float32)\n",
      "activated nodes in hidden layer: tf.Tensor(\n",
      "[[1. 0. 0. 0. 0. 0. 0. 0. 1. 0. 0. 0. 0. 1. 1. 1. 1. 0. 0. 1. 0. 0. 0. 0.\n",
      "  1. 1. 0. 0. 1. 1. 1. 0. 0. 1. 0. 1. 0. 0. 0. 0. 0. 0. 0. 0. 0. 0. 0. 0.\n",
      "  1. 0.]], shape=(1, 50), dtype=float32)\n",
      "tf.Tensor(\n",
      "[[6.68734312e-04 9.58234072e-04 7.92473555e-04 5.64217567e-04\n",
      "  5.58644533e-04 5.64306974e-04 9.87380743e-04 9.97304916e-04\n",
      "  6.29842281e-04 6.36130571e-04 8.41468573e-04 1.01742148e-03\n",
      "  6.43372536e-04 7.82817602e-04 9.56088305e-04 8.43942165e-04\n",
      "  9.29951668e-04 7.76886940e-04 8.49962234e-04 9.20772552e-04\n",
      "  7.24405050e-04 8.08566809e-04 5.31375408e-04 7.46458769e-04\n",
      "  9.39279795e-04 8.24838877e-04 6.36130571e-04 1.09115243e-03\n",
      "  6.29842281e-04 6.75469637e-04 9.20683146e-04 9.97304916e-04\n",
      "  7.95066357e-04 6.75320625e-04 5.01275063e-04 6.65336847e-04\n",
      "  7.79122114e-04 7.75367022e-04 9.22739506e-04 7.38888979e-04\n",
      "  1.16404891e-03 8.80271196e-04 9.03189182e-04 1.38032436e-03\n",
      "  1.21816993e-03 1.90526247e-03 1.38729811e-03 1.33943558e-03\n",
      "  1.11424923e-03 1.08954310e-03 7.30633736e-04 6.84469938e-04\n",
      "  8.00520182e-04 7.61508942e-04 9.87380743e-04 7.46428967e-04\n",
      "  6.55442476e-04 6.88999891e-04 7.96526670e-04 7.30276108e-04\n",
      "  6.96301460e-04 1.01497769e-03 1.23354793e-03 7.40289688e-04\n",
      "  4.19437885e-04 5.24610281e-04 3.97771597e-04 2.88903713e-04\n",
      "  4.98324633e-04 4.07993793e-04 6.80625439e-04 5.31256199e-04\n",
      "  1.01768970e-03 9.30577517e-04 1.01476908e-03 1.05342269e-03\n",
      "  8.77648592e-04 2.11861730e-03 1.20031834e-03 7.87526369e-04\n",
      "  9.77665186e-04 6.60181046e-04 9.97304916e-04 7.76827335e-04\n",
      "  7.92503357e-04 6.82234764e-04 9.69618559e-04 8.86768103e-04\n",
      "  9.32246447e-04 8.61644745e-04 8.01801682e-04 5.39422035e-04\n",
      "  3.19242477e-04 3.87251377e-04 4.73827124e-04 8.69125128e-04\n",
      "  1.17674470e-03 1.41057372e-03 1.95461512e-03 5.06079197e-03\n",
      "  2.19859481e-02 2.87622809e-02 2.13860571e-02 1.17642879e-02\n",
      "  6.74656034e-03 3.18768620e-03 3.35320830e-03 2.51308084e-03\n",
      "  1.18771195e-03 1.38384104e-03 1.00335479e-03 1.19376183e-03\n",
      "  7.53909349e-04 6.23166561e-04 7.98046589e-04 6.54399395e-04\n",
      "  1.03116035e-03 1.47593021e-03 7.16328621e-04 5.52952290e-04\n",
      "  6.20871782e-04 1.20893121e-03 9.21875238e-04 1.51121616e-03\n",
      "  8.65548849e-04 2.53307819e-03 1.92073882e-02 6.11980259e-02\n",
      "  1.78242773e-01 2.91485906e-01 2.06298798e-01 9.88746881e-02\n",
      "  6.70143664e-02 4.29126024e-02 3.86848450e-02 1.48410201e-02\n",
      "  6.02680445e-03 2.38689780e-03 1.09937787e-03 1.00862980e-03\n",
      "  7.24405050e-04 1.13555789e-03 9.21219587e-04 1.23238564e-03\n",
      "  1.81099772e-03 1.14572048e-03 1.88669562e-03 5.51143289e-03\n",
      "  5.56907058e-03 9.21854377e-03 1.21059418e-02 2.03554928e-02\n",
      "  7.12385774e-02 1.16743177e-01 3.15539658e-01 7.13829339e-01\n",
      "  8.06707501e-01 8.76740575e-01 6.98063016e-01 7.26855218e-01\n",
      "  6.78964496e-01 1.66150928e-01 1.12010896e-01 2.92515755e-02\n",
      "  8.65256786e-03 4.58118320e-03 1.47667527e-03 7.98970461e-04\n",
      "  9.48697329e-04 9.92327929e-04 1.28933787e-03 1.82479620e-03\n",
      "  3.35317850e-03 5.38349152e-03 7.82680511e-03 1.36707127e-02\n",
      "  1.85379982e-02 3.39351296e-02 7.97593892e-02 4.18482184e-01\n",
      "  6.73234582e-01 7.61769652e-01 8.51845503e-01 9.40706074e-01\n",
      "  9.66611803e-01 9.18543518e-01 7.78445005e-01 8.18644464e-01\n",
      "  8.81766677e-01 7.28199184e-01 2.09310055e-01 8.00237358e-02\n",
      "  2.00196505e-02 5.18783927e-03 2.23523378e-03 6.21557236e-04\n",
      "  1.03706121e-03 7.13646412e-04 9.88483429e-04 1.97860599e-03\n",
      "  4.49976325e-03 7.60075450e-03 1.40224397e-02 1.64619982e-02\n",
      "  2.00439692e-02 1.29613459e-01 2.83786654e-01 6.58487141e-01\n",
      "  8.63923669e-01 8.63594651e-01 9.17722523e-01 9.23279226e-01\n",
      "  8.27781975e-01 5.70736766e-01 4.29284632e-01 5.52432060e-01\n",
      "  7.28863835e-01 6.41313493e-01 2.85913587e-01 4.81964350e-02\n",
      "  8.12244415e-03 8.91149044e-04 2.10013986e-03 8.48740339e-04\n",
      "  9.56177711e-04 9.42766666e-04 1.97565556e-03 1.36375427e-03\n",
      "  1.69920921e-03 4.15742397e-03 7.45990872e-03 1.21711493e-02\n",
      "  1.80939734e-02 6.46235645e-02 3.11773449e-01 5.59183776e-01\n",
      "  7.23721802e-01 6.45751715e-01 4.92450237e-01 3.66915047e-01\n",
      "  3.17120016e-01 1.27949029e-01 1.25536084e-01 5.19879818e-01\n",
      "  6.71326876e-01 5.55426776e-01 2.48641640e-01 1.98375285e-02\n",
      "  2.67571211e-03 6.81042671e-04 1.07726455e-03 6.77287579e-04\n",
      "  7.68125057e-04 9.48518515e-04 1.44410133e-03 1.56494975e-03\n",
      "  2.23818421e-03 2.69111991e-03 3.83782387e-03 4.00021672e-03\n",
      "  8.00150633e-03 2.16837823e-02 1.08543932e-01 8.82263780e-02\n",
      "  1.47323221e-01 6.66784048e-02 4.46357429e-02 6.72296584e-02\n",
      "  3.70621085e-02 1.50195360e-01 2.32265681e-01 6.58818841e-01\n",
      "  5.94876349e-01 3.86457205e-01 1.33403361e-01 1.59931481e-02\n",
      "  5.32859564e-03 1.56030059e-03 1.26525760e-03 9.93520021e-04\n",
      "  9.28014517e-04 1.05234981e-03 1.19999051e-03 2.28312612e-03\n",
      "  2.68766284e-03 2.26771832e-03 2.07167864e-03 1.27124786e-03\n",
      "  6.83242083e-03 2.23058462e-02 4.75979149e-02 3.62769961e-02\n",
      "  7.16017485e-02 5.48469424e-02 3.84059250e-02 7.15469718e-02\n",
      "  2.18722612e-01 5.32972753e-01 6.06806815e-01 8.12714875e-01\n",
      "  3.32952470e-01 1.68351293e-01 4.40785885e-02 6.69556856e-03\n",
      "  2.33465433e-03 1.67962909e-03 1.12751126e-03 1.04191899e-03\n",
      "  8.59558582e-04 9.19371843e-04 2.01541185e-03 2.19991803e-03\n",
      "  2.81646848e-03 5.68327308e-03 4.72840667e-03 2.54014134e-03\n",
      "  3.48296762e-03 6.39075041e-03 2.73110867e-02 6.58224225e-02\n",
      "  1.80736750e-01 3.08753312e-01 1.48774832e-01 4.27723169e-01\n",
      "  7.64605701e-01 9.20480609e-01 7.68613160e-01 6.16562307e-01\n",
      "  2.23783851e-01 3.04052532e-02 1.39601231e-02 3.95759940e-03\n",
      "  3.13535333e-03 1.80619955e-03 1.09794736e-03 5.84423542e-04\n",
      "  8.39382410e-04 9.69946384e-04 1.81382895e-03 2.35188007e-03\n",
      "  1.42884254e-03 5.52132726e-03 3.60471010e-03 4.04056907e-03\n",
      "  3.81183624e-03 7.91648030e-03 3.98718119e-02 3.68768990e-01\n",
      "  7.62983143e-01 8.28689873e-01 7.59629726e-01 8.92979801e-01\n",
      "  9.51835752e-01 8.72302532e-01 7.43451595e-01 3.52288306e-01\n",
      "  1.04861528e-01 1.11413598e-02 4.73624468e-03 2.28396058e-03\n",
      "  1.44657493e-03 1.50406361e-03 8.62151384e-04 9.83029604e-04\n",
      "  9.80019569e-04 8.22097063e-04 1.24138594e-03 1.32778287e-03\n",
      "  3.74370813e-03 8.33982229e-03 4.85306978e-03 4.60869074e-03\n",
      "  7.29274750e-03 9.60379839e-03 1.10004365e-01 7.73742080e-01\n",
      "  9.46549416e-01 9.55978751e-01 9.46779788e-01 9.46265340e-01\n",
      "  9.54886317e-01 8.49657357e-01 5.32703519e-01 2.32880086e-01\n",
      "  4.28587198e-02 8.32417607e-03 4.53799963e-03 9.52810049e-04\n",
      "  6.68227673e-04 8.51750374e-04 7.80969858e-04 6.40094280e-04\n",
      "  9.51766968e-04 7.82549381e-04 8.11398029e-04 1.98018551e-03\n",
      "  5.84676862e-03 1.30629838e-02 8.99136066e-03 8.15683603e-03\n",
      "  3.34921479e-03 1.53517127e-02 1.24350667e-01 6.98775172e-01\n",
      "  8.37521672e-01 8.64009857e-01 8.32753420e-01 8.95646691e-01\n",
      "  8.79658043e-01 7.14142501e-01 4.33877170e-01 1.13201499e-01\n",
      "  2.84077823e-02 1.50504112e-02 3.09219956e-03 1.07157230e-03\n",
      "  5.52803278e-04 8.75473022e-04 9.08792019e-04 7.03722239e-04\n",
      "  8.75204802e-04 8.67903233e-04 1.53294206e-03 3.71903181e-03\n",
      "  1.97993219e-02 1.76656544e-02 2.15100646e-02 1.12390518e-02\n",
      "  3.92216444e-03 1.58561766e-02 4.38376963e-02 1.70454353e-01\n",
      "  1.44179225e-01 1.86691403e-01 2.55358160e-01 4.72646803e-01\n",
      "  6.86947227e-01 6.39819503e-01 5.81118464e-01 8.76811743e-02\n",
      "  2.10739672e-02 6.85197115e-03 6.12539053e-03 1.09949708e-03\n",
      "  2.53140926e-04 5.83678484e-04 1.03452802e-03 9.45270061e-04\n",
      "  6.62714243e-04 7.65144825e-04 2.12153792e-03 9.64921713e-03\n",
      "  3.64878476e-02 3.70082557e-02 4.79291379e-02 1.68791413e-02\n",
      "  7.09417462e-03 2.11859345e-02 2.66630650e-02 1.82346404e-02\n",
      "  1.54419541e-02 1.34344995e-02 2.93994248e-02 9.72803533e-02\n",
      "  6.38376415e-01 6.64911747e-01 3.05298090e-01 7.86919296e-02\n",
      "  1.50114298e-02 5.85857034e-03 3.67707014e-03 1.54715776e-03\n",
      "  5.21123409e-04 5.58584929e-04 1.10930204e-03 7.96467066e-04\n",
      "  8.41468573e-04 7.26819038e-04 2.44373083e-03 3.76606584e-02\n",
      "  1.60063714e-01 1.88844144e-01 7.01839328e-02 1.27854347e-02\n",
      "  7.20036030e-03 8.40047002e-03 5.23206592e-03 1.41212344e-03\n",
      "  1.35070086e-03 1.58366561e-03 5.48240542e-03 1.05372936e-01\n",
      "  4.46813524e-01 7.94199109e-01 5.46296537e-01 6.82982206e-02\n",
      "  1.76631212e-02 1.34023130e-02 7.48461485e-03 2.15530396e-03\n",
      "  8.77082348e-04 1.13451481e-03 1.35850906e-03 7.32719898e-04\n",
      "  1.07401609e-03 9.43899155e-04 6.80643320e-03 7.36661851e-02\n",
      "  3.99629921e-01 3.13867331e-01 1.24580383e-01 4.48100865e-02\n",
      "  1.57665312e-02 9.29030776e-03 6.51723146e-03 2.64337659e-03\n",
      "  2.16755271e-03 3.07160616e-03 1.52081251e-02 1.24217153e-01\n",
      "  5.94214201e-01 8.63081336e-01 7.71081209e-01 1.74003839e-01\n",
      "  4.70936000e-02 5.89644909e-03 5.80257177e-03 2.57003307e-03\n",
      "  9.31382179e-04 9.70363617e-04 2.66066194e-03 9.54449177e-04\n",
      "  7.80969858e-04 6.88731670e-04 1.13930106e-02 2.92690039e-01\n",
      "  5.53095341e-01 7.22516537e-01 6.39208674e-01 9.49615538e-02\n",
      "  3.80629301e-02 2.27533281e-02 1.90887153e-02 7.21770525e-03\n",
      "  5.32963872e-03 1.65859163e-02 4.47403491e-02 4.27226782e-01\n",
      "  8.28251362e-01 9.74649668e-01 8.95031333e-01 2.14648128e-01\n",
      "  2.53150463e-02 8.91694427e-03 3.45575809e-03 2.05472112e-03\n",
      "  9.22799110e-04 1.16628408e-03 2.06336379e-03 7.85112381e-04\n",
      "  9.02444124e-04 1.20300055e-03 2.06078589e-02 4.25834805e-01\n",
      "  8.11557531e-01 8.47589910e-01 8.10711980e-01 3.80653709e-01\n",
      "  1.51585191e-01 8.65738094e-02 4.04696465e-02 3.76595557e-02\n",
      "  3.83045971e-02 1.17305726e-01 3.88675421e-01 7.63867974e-01\n",
      "  9.59690571e-01 9.57911015e-01 7.94958353e-01 1.28837347e-01\n",
      "  1.96831822e-02 4.34195995e-03 3.49119306e-03 1.45319104e-03\n",
      "  2.34636664e-03 1.16038322e-03 1.29687786e-03 1.16506219e-03\n",
      "  7.39991665e-04 1.00398064e-03 1.32590234e-02 4.17381167e-01\n",
      "  7.98353672e-01 9.32184577e-01 9.30929303e-01 7.40211070e-01\n",
      "  4.24050093e-01 1.93756044e-01 6.19394779e-02 7.92824328e-02\n",
      "  1.57382220e-01 3.79787922e-01 8.28552902e-01 9.15457666e-01\n",
      "  9.29789841e-01 7.89089441e-01 2.48023450e-01 3.08143198e-02\n",
      "  4.62344289e-03 3.22723389e-03 2.86027789e-03 2.97543406e-03\n",
      "  4.19875979e-03 2.01839209e-03 1.19483471e-03 8.01026821e-04\n",
      "  8.01265240e-04 5.95301390e-04 7.33420253e-03 2.07341582e-01\n",
      "  6.38447285e-01 8.88316751e-01 8.90493333e-01 9.38163996e-01\n",
      "  8.37379217e-01 3.91800642e-01 2.75481462e-01 3.40853572e-01\n",
      "  4.09689486e-01 6.25083983e-01 6.97112679e-01 7.77608991e-01\n",
      "  5.35379767e-01 1.31903797e-01 1.99012160e-02 6.30635023e-03\n",
      "  2.70822644e-03 2.08497047e-03 2.18766928e-03 1.78420544e-03\n",
      "  2.62302160e-03 1.71551108e-03 8.11725855e-04 7.53730536e-04\n",
      "  9.48697329e-04 8.93473625e-04 1.95661187e-03 2.86129415e-02\n",
      "  2.25989282e-01 7.02728212e-01 8.88196230e-01 9.23565507e-01\n",
      "  9.02102590e-01 8.04846048e-01 6.33597255e-01 4.11166400e-01\n",
      "  4.11954224e-01 2.75027156e-01 4.97995764e-01 1.42344147e-01\n",
      "  3.00247669e-02 1.16386414e-02 7.57604837e-03 1.78810954e-03\n",
      "  9.98705626e-04 1.14515424e-03 1.48478150e-03 1.24421716e-03\n",
      "  1.54656172e-03 9.10520554e-04 5.83618879e-04 7.53909349e-04\n",
      "  7.61508942e-04 8.58455896e-04 8.17328691e-04 2.26777792e-03\n",
      "  2.22586989e-02 1.49043679e-01 3.15090597e-01 5.50933242e-01\n",
      "  5.92569411e-01 5.35869181e-01 3.58873159e-01 1.14640981e-01\n",
      "  1.48019016e-01 9.62246656e-02 3.37304771e-02 1.24793351e-02\n",
      "  1.13765895e-02 6.53707981e-03 3.14179063e-03 2.17387080e-03\n",
      "  6.42448664e-04 8.14765692e-04 1.03694201e-03 1.35654211e-03\n",
      "  9.71287489e-04 9.21458006e-04 7.15076923e-04 9.29951668e-04\n",
      "  7.53909349e-04 5.69939613e-04 6.07341528e-04 6.75231218e-04\n",
      "  1.27992034e-03 3.52498889e-03 1.03316307e-02 1.38794482e-02\n",
      "  1.54708624e-02 1.96712315e-02 1.34139657e-02 9.00974870e-03\n",
      "  5.57973981e-03 4.19306755e-03 4.97010350e-03 4.88570333e-03\n",
      "  1.00512207e-02 2.97841430e-03 1.37150288e-03 1.22043490e-03\n",
      "  9.47415829e-04 4.72187996e-04 7.58677721e-04 9.29594040e-04\n",
      "  1.08891726e-03 1.34199858e-03 8.86976719e-04 5.87314367e-04\n",
      "  5.42163849e-04 6.62058592e-04 8.75860453e-04 5.84244728e-04\n",
      "  8.66264105e-04 1.70469284e-03 1.65778399e-03 8.27163458e-04\n",
      "  1.20127201e-03 2.18793750e-03 2.50837207e-03 2.30073929e-03\n",
      "  1.11889839e-03 6.69836998e-04 1.25932693e-03 1.15132332e-03\n",
      "  1.79365277e-03 1.06209517e-03 1.45947933e-03 1.26513839e-03\n",
      "  8.20249319e-04 7.28100538e-04 6.31392002e-04 9.56654549e-04\n",
      "  8.29219818e-04 8.28087330e-04 6.62028790e-04 1.00731850e-03\n",
      "  1.17015839e-03 1.11314654e-03 7.17222691e-04 9.87380743e-04\n",
      "  8.16315413e-04 9.94682312e-04 1.21223927e-03 8.87215137e-04\n",
      "  1.14047527e-03 1.83287263e-03 1.64291263e-03 1.78274512e-03\n",
      "  7.67529011e-04 1.68469548e-03 8.85367393e-04 1.10766292e-03\n",
      "  1.09729171e-03 1.59105659e-03 9.01341438e-04 9.32365656e-04\n",
      "  8.01771879e-04 7.17490911e-04 6.51329756e-04 6.30974770e-04\n",
      "  8.16613436e-04 9.11593437e-04 8.67158175e-04 7.46428967e-04]], shape=(1, 784), dtype=float32)\n"
     ]
    }
   ],
   "source": [
    "hh0_p = tf.nn.sigmoid(tf.matmul(sample_case, W) + hb)\n",
    "hh0_s = tf.round(hh0_p)\n",
    "\n",
    "print(\"Probability nodes in hidden layer:\" ,hh0_p)\n",
    "print(\"activated nodes in hidden layer:\" ,hh0_s)\n",
    "\n",
    "# reconstruct\n",
    "vv1_p = tf.nn.sigmoid(tf.matmul(hh0_s, tf.transpose(W)) + vb)\n",
    "\n",
    "print(vv1_p)\n",
    "#rec_prob = sess.run(vv1_p, feed_dict={ hh0_s: hh0_s_val, W: prv_w, vb: prv_vb})"
   ]
  },
  {
   "cell_type": "markdown",
   "metadata": {},
   "source": [
    "Here we plot the reconstructed image:\n"
   ]
  },
  {
   "cell_type": "code",
   "execution_count": 27,
   "metadata": {},
   "outputs": [
    {
     "data": {
      "image/png": "[encoded data removed]",
      "text/plain": [
       "<Figure size 288x288 with 1 Axes>"
      ]
     },
     "metadata": {
      "needs_background": "light"
     },
     "output_type": "display_data"
    }
   ],
   "source": [
    "img = Image.fromarray(tile_raster_images(X=vv1_p.numpy(), img_shape=(28, 28),tile_shape=(1, 1), tile_spacing=(1, 1)))\n",
    "plt.rcParams['figure.figsize'] = (4.0, 4.0)\n",
    "imgplot = plt.imshow(img)\n",
    "imgplot.set_cmap('gray') "
   ]
  },
  {
   "cell_type": "markdown",
   "metadata": {},
   "source": [
    "<hr>\n",
    "\n",
    "## Want to learn more?\n",
    "\n",
    "Also, you can use **Watson Studio** to run these notebooks faster with bigger datasets.**Watson Studio** is IBM’s leading cloud solution for data scientists, built by data scientists. With Jupyter notebooks, RStudio, Apache Spark and popular libraries pre-packaged in the cloud, **Watson Studio** enables data scientists to collaborate on their projects without having to install anything. Join the fast-growing community of **Watson Studio** users today with a free account at [Watson Studio](https://cocl.us/ML0120EN_DSX).This is the end of this lesson. Thank you for reading this notebook, and good luck on your studies.\n"
   ]
  },
  {
   "cell_type": "markdown",
   "metadata": {},
   "source": [
    "### Thanks for completing this lesson!\n",
    "\n",
    "Notebook created by: <a href = \"https://ca.linkedin.com/in/saeedaghabozorgi?utm_medium=Exinfluencer&utm_source=Exinfluencer&utm_content=000026UJ&utm_term=10006555&utm_id=NA-SkillsNetwork-Channel-SkillsNetworkCoursesIBMDeveloperSkillsNetworkDL0120ENSkillsNetwork20629446-2022-01-01\">Saeed Aghabozorgi</a>\n",
    "\n",
    "Updated to TF 2.X by  <a href=\"https://ca.linkedin.com/in/nilmeier?utm_medium=Exinfluencer&utm_source=Exinfluencer&utm_content=000026UJ&utm_term=10006555&utm_id=NA-SkillsNetwork-Channel-SkillsNetworkCoursesIBMDeveloperSkillsNetworkDL0120ENSkillsNetwork20629446-2022-01-01\"> Jerome Nilmeier</a><br />\n"
   ]
  },
  {
   "cell_type": "markdown",
   "metadata": {},
   "source": [
    "### References:\n",
    "\n",
    "[https://en.wikipedia.org/wiki/Restricted_Boltzmann_machine](https://en.wikipedia.org/wiki/Restricted_Boltzmann_machine?utm_medium=Exinfluencer&utm_source=Exinfluencer&utm_content=000026UJ&utm_term=10006555&utm_id=NA-SkillsNetwork-Channel-SkillsNetworkCoursesIBMDeveloperSkillsNetworkDL0120ENSkillsNetwork20629446-2022-01-01)\\\n",
    "[http://deeplearning.net/tutorial/rbm.html](http://deeplearning.net/tutorial/rbm.html?utm_medium=Exinfluencer&utm_source=Exinfluencer&utm_content=000026UJ&utm_term=10006555&utm_id=NA-SkillsNetwork-Channel-SkillsNetworkCoursesIBMDeveloperSkillsNetworkDL0120ENSkillsNetwork20629446-2022-01-01)\\\n",
    "[http://www.cs.utoronto.ca/\\~hinton/absps/netflixICML.pdf](http://www.cs.utoronto.ca/\\~hinton/absps/netflixICML.pdf?utm_medium=Exinfluencer&utm_source=Exinfluencer&utm_content=000026UJ&utm_term=10006555&utm_id=NA-SkillsNetwork-Channel-SkillsNetworkCoursesIBMDeveloperSkillsNetworkDL0120ENSkillsNetwork20629446-2022-01-01)<br>\n",
    "<http://imonad.com/rbm/restricted-boltzmann-machine/>\n"
   ]
  },
  {
   "cell_type": "markdown",
   "metadata": {},
   "source": [
    "<hr>\n",
    "\n",
    "Copyright © 2018 [Cognitive Class](https://cocl.us/DX0108EN_CC). This notebook and its source code are released under the terms of the [MIT License](https://bigdatauniversity.com/mit-license/?utm_medium=Exinfluencer&utm_source=Exinfluencer&utm_content=000026UJ&utm_term=10006555&utm_id=NA-SkillsNetwork-Channel-SkillsNetworkCoursesIBMDeveloperSkillsNetworkDL0120ENSkillsNetwork20629446-2022-01-01).\n"
   ]
  }
 ],
 "metadata": {
  "kernelspec": {
   "display_name": "Python",
   "language": "python",
   "name": "conda-env-python-py"
  },
  "language_info": {
   "codemirror_mode": {
    "name": "ipython",
    "version": 3
   },
   "file_extension": ".py",
   "mimetype": "text/x-python",
   "name": "python",
   "nbconvert_exporter": "python",
   "pygments_lexer": "ipython3",
   "version": "3.7.12"
  },
  "widgets": {
   "state": {},
   "version": "1.1.2"
  }
 },
 "nbformat": 4,
 "nbformat_minor": 4
}
